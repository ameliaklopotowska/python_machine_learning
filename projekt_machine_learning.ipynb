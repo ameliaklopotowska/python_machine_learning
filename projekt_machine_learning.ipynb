{
 "cells": [
  {
   "cell_type": "code",
   "execution_count": 1,
   "metadata": {},
   "outputs": [],
   "source": [
    "import pandas as pd\n",
    "import numpy as np\n",
    "import matplotlib.pyplot as plt\n",
    "import seaborn as sns\n",
    "import tensorflow as tf\n",
    "from datetime import date\n",
    "from sklearn import metrics\n",
    "from sklearn.preprocessing import StandardScaler, OneHotEncoder, MinMaxScaler, LabelEncoder,OrdinalEncoder\n",
    "from sklearn.compose import ColumnTransformer\n",
    "from sklearn.model_selection import train_test_split\n",
    "from sklearn.linear_model import LogisticRegression\n",
    "from sklearn.tree import DecisionTreeClassifier\n",
    "from sklearn.svm import SVC\n",
    "from sklearn.neighbors import KNeighborsClassifier\n",
    "from sklearn.ensemble import RandomForestClassifier\n",
    "from sklearn.naive_bayes import GaussianNB\n",
    "from keras.models import Sequential\n",
    "from keras.layers import Activation, Dropout, Flatten, Dense\n",
    "from sklearn.metrics import roc_auc_score, accuracy_score, precision_score, recall_score, f1_score"
   ]
  },
  {
   "cell_type": "code",
   "execution_count": 2,
   "metadata": {},
   "outputs": [],
   "source": [
    "df = pd.read_csv('bank.csv', sep=';')"
   ]
  },
  {
   "cell_type": "code",
   "execution_count": 3,
   "metadata": {},
   "outputs": [
    {
     "data": {
      "text/html": [
       "<div>\n",
       "<style scoped>\n",
       "    .dataframe tbody tr th:only-of-type {\n",
       "        vertical-align: middle;\n",
       "    }\n",
       "\n",
       "    .dataframe tbody tr th {\n",
       "        vertical-align: top;\n",
       "    }\n",
       "\n",
       "    .dataframe thead th {\n",
       "        text-align: right;\n",
       "    }\n",
       "</style>\n",
       "<table border=\"1\" class=\"dataframe\">\n",
       "  <thead>\n",
       "    <tr style=\"text-align: right;\">\n",
       "      <th></th>\n",
       "      <th>age</th>\n",
       "      <th>job</th>\n",
       "      <th>marital</th>\n",
       "      <th>education</th>\n",
       "      <th>default</th>\n",
       "      <th>balance</th>\n",
       "      <th>housing</th>\n",
       "      <th>loan</th>\n",
       "      <th>contact</th>\n",
       "      <th>day</th>\n",
       "      <th>month</th>\n",
       "      <th>duration</th>\n",
       "      <th>campaign</th>\n",
       "      <th>pdays</th>\n",
       "      <th>previous</th>\n",
       "      <th>poutcome</th>\n",
       "      <th>y</th>\n",
       "    </tr>\n",
       "  </thead>\n",
       "  <tbody>\n",
       "    <tr>\n",
       "      <th>0</th>\n",
       "      <td>30</td>\n",
       "      <td>unemployed</td>\n",
       "      <td>married</td>\n",
       "      <td>primary</td>\n",
       "      <td>no</td>\n",
       "      <td>1787</td>\n",
       "      <td>no</td>\n",
       "      <td>no</td>\n",
       "      <td>cellular</td>\n",
       "      <td>19</td>\n",
       "      <td>oct</td>\n",
       "      <td>79</td>\n",
       "      <td>1</td>\n",
       "      <td>-1</td>\n",
       "      <td>0</td>\n",
       "      <td>unknown</td>\n",
       "      <td>no</td>\n",
       "    </tr>\n",
       "    <tr>\n",
       "      <th>1</th>\n",
       "      <td>33</td>\n",
       "      <td>services</td>\n",
       "      <td>married</td>\n",
       "      <td>secondary</td>\n",
       "      <td>no</td>\n",
       "      <td>4789</td>\n",
       "      <td>yes</td>\n",
       "      <td>yes</td>\n",
       "      <td>cellular</td>\n",
       "      <td>11</td>\n",
       "      <td>may</td>\n",
       "      <td>220</td>\n",
       "      <td>1</td>\n",
       "      <td>339</td>\n",
       "      <td>4</td>\n",
       "      <td>failure</td>\n",
       "      <td>no</td>\n",
       "    </tr>\n",
       "    <tr>\n",
       "      <th>2</th>\n",
       "      <td>35</td>\n",
       "      <td>management</td>\n",
       "      <td>single</td>\n",
       "      <td>tertiary</td>\n",
       "      <td>no</td>\n",
       "      <td>1350</td>\n",
       "      <td>yes</td>\n",
       "      <td>no</td>\n",
       "      <td>cellular</td>\n",
       "      <td>16</td>\n",
       "      <td>apr</td>\n",
       "      <td>185</td>\n",
       "      <td>1</td>\n",
       "      <td>330</td>\n",
       "      <td>1</td>\n",
       "      <td>failure</td>\n",
       "      <td>no</td>\n",
       "    </tr>\n",
       "    <tr>\n",
       "      <th>3</th>\n",
       "      <td>30</td>\n",
       "      <td>management</td>\n",
       "      <td>married</td>\n",
       "      <td>tertiary</td>\n",
       "      <td>no</td>\n",
       "      <td>1476</td>\n",
       "      <td>yes</td>\n",
       "      <td>yes</td>\n",
       "      <td>unknown</td>\n",
       "      <td>3</td>\n",
       "      <td>jun</td>\n",
       "      <td>199</td>\n",
       "      <td>4</td>\n",
       "      <td>-1</td>\n",
       "      <td>0</td>\n",
       "      <td>unknown</td>\n",
       "      <td>no</td>\n",
       "    </tr>\n",
       "    <tr>\n",
       "      <th>4</th>\n",
       "      <td>59</td>\n",
       "      <td>blue-collar</td>\n",
       "      <td>married</td>\n",
       "      <td>secondary</td>\n",
       "      <td>no</td>\n",
       "      <td>0</td>\n",
       "      <td>yes</td>\n",
       "      <td>no</td>\n",
       "      <td>unknown</td>\n",
       "      <td>5</td>\n",
       "      <td>may</td>\n",
       "      <td>226</td>\n",
       "      <td>1</td>\n",
       "      <td>-1</td>\n",
       "      <td>0</td>\n",
       "      <td>unknown</td>\n",
       "      <td>no</td>\n",
       "    </tr>\n",
       "  </tbody>\n",
       "</table>\n",
       "</div>"
      ],
      "text/plain": [
       "   age          job  marital  education default  balance housing loan  \\\n",
       "0   30   unemployed  married    primary      no     1787      no   no   \n",
       "1   33     services  married  secondary      no     4789     yes  yes   \n",
       "2   35   management   single   tertiary      no     1350     yes   no   \n",
       "3   30   management  married   tertiary      no     1476     yes  yes   \n",
       "4   59  blue-collar  married  secondary      no        0     yes   no   \n",
       "\n",
       "    contact  day month  duration  campaign  pdays  previous poutcome   y  \n",
       "0  cellular   19   oct        79         1     -1         0  unknown  no  \n",
       "1  cellular   11   may       220         1    339         4  failure  no  \n",
       "2  cellular   16   apr       185         1    330         1  failure  no  \n",
       "3   unknown    3   jun       199         4     -1         0  unknown  no  \n",
       "4   unknown    5   may       226         1     -1         0  unknown  no  "
      ]
     },
     "execution_count": 3,
     "metadata": {},
     "output_type": "execute_result"
    }
   ],
   "source": [
    "df.head()"
   ]
  },
  {
   "cell_type": "code",
   "execution_count": 4,
   "metadata": {},
   "outputs": [
    {
     "data": {
      "text/plain": [
       "4521"
      ]
     },
     "execution_count": 4,
     "metadata": {},
     "output_type": "execute_result"
    }
   ],
   "source": [
    "len(df)"
   ]
  },
  {
   "cell_type": "markdown",
   "metadata": {},
   "source": [
    "# nowe zmienne/atrybuty"
   ]
  },
  {
   "cell_type": "code",
   "execution_count": 5,
   "metadata": {},
   "outputs": [
    {
     "name": "stdout",
     "output_type": "stream",
     "text": [
      "1422.6578190665782 -3313 71188\n"
     ]
    }
   ],
   "source": [
    "print(df.balance.mean(), df.balance.min(), df.balance.max())"
   ]
  },
  {
   "cell_type": "code",
   "execution_count": 6,
   "metadata": {},
   "outputs": [],
   "source": [
    "#słowne przedstawienie salda konta\n",
    "df['balance_category'] = 'over zero'\n",
    "df.loc[df['balance']<0, 'balance_category'] = 'under zero'"
   ]
  },
  {
   "cell_type": "code",
   "execution_count": 7,
   "metadata": {},
   "outputs": [],
   "source": [
    "#zmieniam miesiąc z formatu %b na %m aby był liczbą\n",
    "df['month'] = pd.to_datetime('1990' + '/' + df.month.astype(str) + df.day.astype(str)).dt.strftime('%m')\n",
    "df['month'] = df['month'].astype('int')"
   ]
  },
  {
   "cell_type": "code",
   "execution_count": 8,
   "metadata": {},
   "outputs": [],
   "source": [
    "#zmienna przedstawiająca \"wagę\" salda na wiek (im starszy klient tym większe saldo powinien mieć, ponieważ krótszy czas spłaty kredytu)\n",
    "df['balance_age']=df['balance']/df['age']"
   ]
  },
  {
   "cell_type": "code",
   "execution_count": 9,
   "metadata": {},
   "outputs": [],
   "source": [
    "#zmienna przedstawiająca status stanu cywilnego (po ślubie=0, rozwiedziony=0.5, singiel=1) i edukacji (nieznana=0, szkoła podstawowa=0.5, szkoła średnia=1, szkoła wyższa=2) jako suma zmiennych numerycznych\n",
    "marital_value = []\n",
    "for i,r in df.iterrows():\n",
    "    if (r['marital'] == 'married'):\n",
    "        marital_value.append(0)\n",
    "    elif (r['marital'] == 'divorced'):\n",
    "        marital_value.append(0.5)\n",
    "    else:\n",
    "        marital_value.append(1)\n",
    "        \n",
    "education_value = []\n",
    "for i,r in df.iterrows():\n",
    "    if (r['education'] == 'unknown'):\n",
    "        education_value.append(0)\n",
    "    elif (r['education'] == 'primary'):\n",
    "        education_value.append(0.5)\n",
    "    elif (r['education'] == 'secondary'):\n",
    "        education_value.append(1)    \n",
    "    else:\n",
    "        education_value.append(2)\n",
    "marital_education_value = marital_value+education_value"
   ]
  },
  {
   "cell_type": "code",
   "execution_count": 10,
   "metadata": {},
   "outputs": [],
   "source": [
    "df['marital_education_value'] = [sum(x) for x in zip(*[marital_value,education_value])]"
   ]
  },
  {
   "cell_type": "code",
   "execution_count": 11,
   "metadata": {},
   "outputs": [],
   "source": [
    "# łączna liczba wykonanych kontaktów w ten kampanii i poprzednich\n",
    "df['number_of_contacts'] = df['previous'] = df['previous']"
   ]
  },
  {
   "cell_type": "code",
   "execution_count": 12,
   "metadata": {},
   "outputs": [],
   "source": [
    "#zmienna tekstowa klasyfikująca wiek"
   ]
  },
  {
   "cell_type": "code",
   "execution_count": 13,
   "metadata": {},
   "outputs": [
    {
     "name": "stdout",
     "output_type": "stream",
     "text": [
      "41.17009511170095 19 87\n"
     ]
    }
   ],
   "source": [
    "print(df.age.mean(), df.age.min(), df.age.max())"
   ]
  },
  {
   "cell_type": "code",
   "execution_count": 14,
   "metadata": {},
   "outputs": [],
   "source": [
    "df['age_category'] = 'young'\n",
    "df.loc[((df['age']<=50) & (df['age'] > 30)),'age_category'] = 'middle-aged'\n",
    "df.loc[(df['age'] > 50),'age_category'] = 'old'"
   ]
  },
  {
   "cell_type": "code",
   "execution_count": 15,
   "metadata": {},
   "outputs": [],
   "source": [
    "#zmienna numeryczna przedstawiająca status aktualnych kredytów\n",
    "housing_loan = []\n",
    "for i,r in df.iterrows():\n",
    "    if ((r['housing'] == 'yes') & (r['loan'] == 'yes')):\n",
    "        housing_loan.append(1)\n",
    "    elif (((r['housing'] == 'no') & (r['loan'] == 'yes')) | ((r['housing'] == 'yes') & (r['loan'] == 'no'))):\n",
    "        housing_loan.append(2)\n",
    "    else:\n",
    "        housing_loan.append(3)\n",
    "df['housing_loan'] = housing_loan        "
   ]
  },
  {
   "cell_type": "code",
   "execution_count": 16,
   "metadata": {},
   "outputs": [],
   "source": [
    "#zmienna przedstawiająca wartość salda podzieloną na wartość aktualnych kredytów\n",
    "df['balance_credits'] = df['balance']/df['housing_loan']"
   ]
  },
  {
   "cell_type": "code",
   "execution_count": 17,
   "metadata": {},
   "outputs": [],
   "source": [
    "#zmienna przedstawiająca wartość salda wymnożoną przez wartość statusu/edukacji podzielona przez wartość kredytów\n",
    "df['balance_weight'] = (df['balance']*df['marital_education_value'])/df['housing_loan']"
   ]
  },
  {
   "cell_type": "code",
   "execution_count": 18,
   "metadata": {},
   "outputs": [],
   "source": [
    "#zmienna przedstawiająca długość trwania ostatniej rozmowy podzielona na ilość rozmów podczas tego kontraktu\n",
    "df['duration_campaign '] = df['duration']/df['campaign']"
   ]
  },
  {
   "cell_type": "code",
   "execution_count": 19,
   "metadata": {},
   "outputs": [
    {
     "data": {
      "text/html": [
       "<div>\n",
       "<style scoped>\n",
       "    .dataframe tbody tr th:only-of-type {\n",
       "        vertical-align: middle;\n",
       "    }\n",
       "\n",
       "    .dataframe tbody tr th {\n",
       "        vertical-align: top;\n",
       "    }\n",
       "\n",
       "    .dataframe thead th {\n",
       "        text-align: right;\n",
       "    }\n",
       "</style>\n",
       "<table border=\"1\" class=\"dataframe\">\n",
       "  <thead>\n",
       "    <tr style=\"text-align: right;\">\n",
       "      <th></th>\n",
       "      <th>age</th>\n",
       "      <th>job</th>\n",
       "      <th>marital</th>\n",
       "      <th>education</th>\n",
       "      <th>default</th>\n",
       "      <th>balance</th>\n",
       "      <th>housing</th>\n",
       "      <th>loan</th>\n",
       "      <th>contact</th>\n",
       "      <th>day</th>\n",
       "      <th>...</th>\n",
       "      <th>y</th>\n",
       "      <th>balance_category</th>\n",
       "      <th>balance_age</th>\n",
       "      <th>marital_education_value</th>\n",
       "      <th>number_of_contacts</th>\n",
       "      <th>age_category</th>\n",
       "      <th>housing_loan</th>\n",
       "      <th>balance_credits</th>\n",
       "      <th>balance_weight</th>\n",
       "      <th>duration_campaign</th>\n",
       "    </tr>\n",
       "  </thead>\n",
       "  <tbody>\n",
       "    <tr>\n",
       "      <th>0</th>\n",
       "      <td>30</td>\n",
       "      <td>unemployed</td>\n",
       "      <td>married</td>\n",
       "      <td>primary</td>\n",
       "      <td>no</td>\n",
       "      <td>1787</td>\n",
       "      <td>no</td>\n",
       "      <td>no</td>\n",
       "      <td>cellular</td>\n",
       "      <td>19</td>\n",
       "      <td>...</td>\n",
       "      <td>no</td>\n",
       "      <td>over zero</td>\n",
       "      <td>59.566667</td>\n",
       "      <td>0.5</td>\n",
       "      <td>0</td>\n",
       "      <td>young</td>\n",
       "      <td>3</td>\n",
       "      <td>595.666667</td>\n",
       "      <td>297.833333</td>\n",
       "      <td>79.000000</td>\n",
       "    </tr>\n",
       "    <tr>\n",
       "      <th>1</th>\n",
       "      <td>33</td>\n",
       "      <td>services</td>\n",
       "      <td>married</td>\n",
       "      <td>secondary</td>\n",
       "      <td>no</td>\n",
       "      <td>4789</td>\n",
       "      <td>yes</td>\n",
       "      <td>yes</td>\n",
       "      <td>cellular</td>\n",
       "      <td>11</td>\n",
       "      <td>...</td>\n",
       "      <td>no</td>\n",
       "      <td>over zero</td>\n",
       "      <td>145.121212</td>\n",
       "      <td>1.0</td>\n",
       "      <td>4</td>\n",
       "      <td>middle-aged</td>\n",
       "      <td>1</td>\n",
       "      <td>4789.000000</td>\n",
       "      <td>4789.000000</td>\n",
       "      <td>220.000000</td>\n",
       "    </tr>\n",
       "    <tr>\n",
       "      <th>2</th>\n",
       "      <td>35</td>\n",
       "      <td>management</td>\n",
       "      <td>single</td>\n",
       "      <td>tertiary</td>\n",
       "      <td>no</td>\n",
       "      <td>1350</td>\n",
       "      <td>yes</td>\n",
       "      <td>no</td>\n",
       "      <td>cellular</td>\n",
       "      <td>16</td>\n",
       "      <td>...</td>\n",
       "      <td>no</td>\n",
       "      <td>over zero</td>\n",
       "      <td>38.571429</td>\n",
       "      <td>3.0</td>\n",
       "      <td>1</td>\n",
       "      <td>middle-aged</td>\n",
       "      <td>2</td>\n",
       "      <td>675.000000</td>\n",
       "      <td>2025.000000</td>\n",
       "      <td>185.000000</td>\n",
       "    </tr>\n",
       "    <tr>\n",
       "      <th>3</th>\n",
       "      <td>30</td>\n",
       "      <td>management</td>\n",
       "      <td>married</td>\n",
       "      <td>tertiary</td>\n",
       "      <td>no</td>\n",
       "      <td>1476</td>\n",
       "      <td>yes</td>\n",
       "      <td>yes</td>\n",
       "      <td>unknown</td>\n",
       "      <td>3</td>\n",
       "      <td>...</td>\n",
       "      <td>no</td>\n",
       "      <td>over zero</td>\n",
       "      <td>49.200000</td>\n",
       "      <td>2.0</td>\n",
       "      <td>0</td>\n",
       "      <td>young</td>\n",
       "      <td>1</td>\n",
       "      <td>1476.000000</td>\n",
       "      <td>2952.000000</td>\n",
       "      <td>49.750000</td>\n",
       "    </tr>\n",
       "    <tr>\n",
       "      <th>4</th>\n",
       "      <td>59</td>\n",
       "      <td>blue-collar</td>\n",
       "      <td>married</td>\n",
       "      <td>secondary</td>\n",
       "      <td>no</td>\n",
       "      <td>0</td>\n",
       "      <td>yes</td>\n",
       "      <td>no</td>\n",
       "      <td>unknown</td>\n",
       "      <td>5</td>\n",
       "      <td>...</td>\n",
       "      <td>no</td>\n",
       "      <td>over zero</td>\n",
       "      <td>0.000000</td>\n",
       "      <td>1.0</td>\n",
       "      <td>0</td>\n",
       "      <td>old</td>\n",
       "      <td>2</td>\n",
       "      <td>0.000000</td>\n",
       "      <td>0.000000</td>\n",
       "      <td>226.000000</td>\n",
       "    </tr>\n",
       "    <tr>\n",
       "      <th>...</th>\n",
       "      <td>...</td>\n",
       "      <td>...</td>\n",
       "      <td>...</td>\n",
       "      <td>...</td>\n",
       "      <td>...</td>\n",
       "      <td>...</td>\n",
       "      <td>...</td>\n",
       "      <td>...</td>\n",
       "      <td>...</td>\n",
       "      <td>...</td>\n",
       "      <td>...</td>\n",
       "      <td>...</td>\n",
       "      <td>...</td>\n",
       "      <td>...</td>\n",
       "      <td>...</td>\n",
       "      <td>...</td>\n",
       "      <td>...</td>\n",
       "      <td>...</td>\n",
       "      <td>...</td>\n",
       "      <td>...</td>\n",
       "      <td>...</td>\n",
       "    </tr>\n",
       "    <tr>\n",
       "      <th>4516</th>\n",
       "      <td>33</td>\n",
       "      <td>services</td>\n",
       "      <td>married</td>\n",
       "      <td>secondary</td>\n",
       "      <td>no</td>\n",
       "      <td>-333</td>\n",
       "      <td>yes</td>\n",
       "      <td>no</td>\n",
       "      <td>cellular</td>\n",
       "      <td>30</td>\n",
       "      <td>...</td>\n",
       "      <td>no</td>\n",
       "      <td>under zero</td>\n",
       "      <td>-10.090909</td>\n",
       "      <td>1.0</td>\n",
       "      <td>0</td>\n",
       "      <td>middle-aged</td>\n",
       "      <td>2</td>\n",
       "      <td>-166.500000</td>\n",
       "      <td>-166.500000</td>\n",
       "      <td>65.800000</td>\n",
       "    </tr>\n",
       "    <tr>\n",
       "      <th>4517</th>\n",
       "      <td>57</td>\n",
       "      <td>self-employed</td>\n",
       "      <td>married</td>\n",
       "      <td>tertiary</td>\n",
       "      <td>yes</td>\n",
       "      <td>-3313</td>\n",
       "      <td>yes</td>\n",
       "      <td>yes</td>\n",
       "      <td>unknown</td>\n",
       "      <td>9</td>\n",
       "      <td>...</td>\n",
       "      <td>no</td>\n",
       "      <td>under zero</td>\n",
       "      <td>-58.122807</td>\n",
       "      <td>2.0</td>\n",
       "      <td>0</td>\n",
       "      <td>old</td>\n",
       "      <td>1</td>\n",
       "      <td>-3313.000000</td>\n",
       "      <td>-6626.000000</td>\n",
       "      <td>153.000000</td>\n",
       "    </tr>\n",
       "    <tr>\n",
       "      <th>4518</th>\n",
       "      <td>57</td>\n",
       "      <td>technician</td>\n",
       "      <td>married</td>\n",
       "      <td>secondary</td>\n",
       "      <td>no</td>\n",
       "      <td>295</td>\n",
       "      <td>no</td>\n",
       "      <td>no</td>\n",
       "      <td>cellular</td>\n",
       "      <td>19</td>\n",
       "      <td>...</td>\n",
       "      <td>no</td>\n",
       "      <td>over zero</td>\n",
       "      <td>5.175439</td>\n",
       "      <td>1.0</td>\n",
       "      <td>0</td>\n",
       "      <td>old</td>\n",
       "      <td>3</td>\n",
       "      <td>98.333333</td>\n",
       "      <td>98.333333</td>\n",
       "      <td>13.727273</td>\n",
       "    </tr>\n",
       "    <tr>\n",
       "      <th>4519</th>\n",
       "      <td>28</td>\n",
       "      <td>blue-collar</td>\n",
       "      <td>married</td>\n",
       "      <td>secondary</td>\n",
       "      <td>no</td>\n",
       "      <td>1137</td>\n",
       "      <td>no</td>\n",
       "      <td>no</td>\n",
       "      <td>cellular</td>\n",
       "      <td>6</td>\n",
       "      <td>...</td>\n",
       "      <td>no</td>\n",
       "      <td>over zero</td>\n",
       "      <td>40.607143</td>\n",
       "      <td>1.0</td>\n",
       "      <td>3</td>\n",
       "      <td>young</td>\n",
       "      <td>3</td>\n",
       "      <td>379.000000</td>\n",
       "      <td>379.000000</td>\n",
       "      <td>32.250000</td>\n",
       "    </tr>\n",
       "    <tr>\n",
       "      <th>4520</th>\n",
       "      <td>44</td>\n",
       "      <td>entrepreneur</td>\n",
       "      <td>single</td>\n",
       "      <td>tertiary</td>\n",
       "      <td>no</td>\n",
       "      <td>1136</td>\n",
       "      <td>yes</td>\n",
       "      <td>yes</td>\n",
       "      <td>cellular</td>\n",
       "      <td>3</td>\n",
       "      <td>...</td>\n",
       "      <td>no</td>\n",
       "      <td>over zero</td>\n",
       "      <td>25.818182</td>\n",
       "      <td>3.0</td>\n",
       "      <td>7</td>\n",
       "      <td>middle-aged</td>\n",
       "      <td>1</td>\n",
       "      <td>1136.000000</td>\n",
       "      <td>3408.000000</td>\n",
       "      <td>172.500000</td>\n",
       "    </tr>\n",
       "  </tbody>\n",
       "</table>\n",
       "<p>4521 rows × 26 columns</p>\n",
       "</div>"
      ],
      "text/plain": [
       "      age            job  marital  education default  balance housing loan  \\\n",
       "0      30     unemployed  married    primary      no     1787      no   no   \n",
       "1      33       services  married  secondary      no     4789     yes  yes   \n",
       "2      35     management   single   tertiary      no     1350     yes   no   \n",
       "3      30     management  married   tertiary      no     1476     yes  yes   \n",
       "4      59    blue-collar  married  secondary      no        0     yes   no   \n",
       "...   ...            ...      ...        ...     ...      ...     ...  ...   \n",
       "4516   33       services  married  secondary      no     -333     yes   no   \n",
       "4517   57  self-employed  married   tertiary     yes    -3313     yes  yes   \n",
       "4518   57     technician  married  secondary      no      295      no   no   \n",
       "4519   28    blue-collar  married  secondary      no     1137      no   no   \n",
       "4520   44   entrepreneur   single   tertiary      no     1136     yes  yes   \n",
       "\n",
       "       contact  day  ...   y  balance_category  balance_age  \\\n",
       "0     cellular   19  ...  no         over zero    59.566667   \n",
       "1     cellular   11  ...  no         over zero   145.121212   \n",
       "2     cellular   16  ...  no         over zero    38.571429   \n",
       "3      unknown    3  ...  no         over zero    49.200000   \n",
       "4      unknown    5  ...  no         over zero     0.000000   \n",
       "...        ...  ...  ...  ..               ...          ...   \n",
       "4516  cellular   30  ...  no        under zero   -10.090909   \n",
       "4517   unknown    9  ...  no        under zero   -58.122807   \n",
       "4518  cellular   19  ...  no         over zero     5.175439   \n",
       "4519  cellular    6  ...  no         over zero    40.607143   \n",
       "4520  cellular    3  ...  no         over zero    25.818182   \n",
       "\n",
       "      marital_education_value  number_of_contacts age_category housing_loan  \\\n",
       "0                         0.5                   0        young            3   \n",
       "1                         1.0                   4  middle-aged            1   \n",
       "2                         3.0                   1  middle-aged            2   \n",
       "3                         2.0                   0        young            1   \n",
       "4                         1.0                   0          old            2   \n",
       "...                       ...                 ...          ...          ...   \n",
       "4516                      1.0                   0  middle-aged            2   \n",
       "4517                      2.0                   0          old            1   \n",
       "4518                      1.0                   0          old            3   \n",
       "4519                      1.0                   3        young            3   \n",
       "4520                      3.0                   7  middle-aged            1   \n",
       "\n",
       "     balance_credits  balance_weight  duration_campaign   \n",
       "0         595.666667      297.833333           79.000000  \n",
       "1        4789.000000     4789.000000          220.000000  \n",
       "2         675.000000     2025.000000          185.000000  \n",
       "3        1476.000000     2952.000000           49.750000  \n",
       "4           0.000000        0.000000          226.000000  \n",
       "...              ...             ...                 ...  \n",
       "4516     -166.500000     -166.500000           65.800000  \n",
       "4517    -3313.000000    -6626.000000          153.000000  \n",
       "4518       98.333333       98.333333           13.727273  \n",
       "4519      379.000000      379.000000           32.250000  \n",
       "4520     1136.000000     3408.000000          172.500000  \n",
       "\n",
       "[4521 rows x 26 columns]"
      ]
     },
     "execution_count": 19,
     "metadata": {},
     "output_type": "execute_result"
    }
   ],
   "source": [
    "df"
   ]
  },
  {
   "cell_type": "code",
   "execution_count": 20,
   "metadata": {},
   "outputs": [
    {
     "name": "stderr",
     "output_type": "stream",
     "text": [
      "/Applications/anaconda3/lib/python3.8/site-packages/pandas/core/series.py:726: RuntimeWarning: divide by zero encountered in log10\n",
      "  result = getattr(ufunc, method)(*inputs, **kwargs)\n",
      "/Applications/anaconda3/lib/python3.8/site-packages/pandas/core/series.py:726: RuntimeWarning: invalid value encountered in log10\n",
      "  result = getattr(ufunc, method)(*inputs, **kwargs)\n"
     ]
    }
   ],
   "source": [
    "#zmienne kwadratu i logarytmu dla zmiennej salda\n",
    "df['balance_square'] = np.square(df['balance'])\n",
    "df['balance_log'] = np.log10(df['balance'])"
   ]
  },
  {
   "cell_type": "markdown",
   "metadata": {},
   "source": [
    "# kodowanie zmiennych"
   ]
  },
  {
   "cell_type": "code",
   "execution_count": 21,
   "metadata": {},
   "outputs": [
    {
     "data": {
      "text/plain": [
       "Index(['age', 'job', 'marital', 'education', 'default', 'balance', 'housing',\n",
       "       'loan', 'contact', 'day', 'month', 'duration', 'campaign', 'pdays',\n",
       "       'previous', 'poutcome', 'y', 'balance_category', 'balance_age',\n",
       "       'marital_education_value', 'number_of_contacts', 'age_category',\n",
       "       'housing_loan', 'balance_credits', 'balance_weight',\n",
       "       'duration_campaign ', 'balance_square', 'balance_log'],\n",
       "      dtype='object')"
      ]
     },
     "execution_count": 21,
     "metadata": {},
     "output_type": "execute_result"
    }
   ],
   "source": [
    "df.columns"
   ]
  },
  {
   "cell_type": "code",
   "execution_count": 22,
   "metadata": {},
   "outputs": [
    {
     "data": {
      "text/plain": [
       "age                          int64\n",
       "job                         object\n",
       "marital                     object\n",
       "education                   object\n",
       "default                     object\n",
       "balance                      int64\n",
       "housing                     object\n",
       "loan                        object\n",
       "contact                     object\n",
       "day                          int64\n",
       "month                        int64\n",
       "duration                     int64\n",
       "campaign                     int64\n",
       "pdays                        int64\n",
       "previous                     int64\n",
       "poutcome                    object\n",
       "y                           object\n",
       "balance_category            object\n",
       "balance_age                float64\n",
       "marital_education_value    float64\n",
       "number_of_contacts           int64\n",
       "age_category                object\n",
       "housing_loan                 int64\n",
       "balance_credits            float64\n",
       "balance_weight             float64\n",
       "duration_campaign          float64\n",
       "balance_square               int64\n",
       "balance_log                float64\n",
       "dtype: object"
      ]
     },
     "execution_count": 22,
     "metadata": {},
     "output_type": "execute_result"
    }
   ],
   "source": [
    "df.dtypes"
   ]
  },
  {
   "cell_type": "code",
   "execution_count": 23,
   "metadata": {},
   "outputs": [],
   "source": [
    "ord_enc = OrdinalEncoder()\n",
    "z = [['unknown', 0], ['primary', 1], ['secondary', 2], ['tertiary',3]]\n",
    "ord_enc.fit(z)\n",
    "df['education'] = ord_enc.fit_transform(df[[\"education\"]])\n",
    "z = [['under zero', 0], ['over zero', 1]]\n",
    "ord_enc.fit(z)\n",
    "df['balance_category'] = ord_enc.fit_transform(df[[\"balance_category\"]])\n",
    "z = [['young', 0], ['middle-aged', 1], ['old', 2]]\n",
    "ord_enc.fit(z)\n",
    "df['age_category'] = ord_enc.fit_transform(df[[\"age_category\"]])\n",
    "ord_enc = OrdinalEncoder()\n",
    "df[['default','housing','loan','y']] = ord_enc.fit_transform(df[['default','housing','loan','y']])"
   ]
  },
  {
   "cell_type": "code",
   "execution_count": 24,
   "metadata": {},
   "outputs": [
    {
     "data": {
      "text/html": [
       "<div>\n",
       "<style scoped>\n",
       "    .dataframe tbody tr th:only-of-type {\n",
       "        vertical-align: middle;\n",
       "    }\n",
       "\n",
       "    .dataframe tbody tr th {\n",
       "        vertical-align: top;\n",
       "    }\n",
       "\n",
       "    .dataframe thead th {\n",
       "        text-align: right;\n",
       "    }\n",
       "</style>\n",
       "<table border=\"1\" class=\"dataframe\">\n",
       "  <thead>\n",
       "    <tr style=\"text-align: right;\">\n",
       "      <th></th>\n",
       "      <th>age</th>\n",
       "      <th>job</th>\n",
       "      <th>marital</th>\n",
       "      <th>education</th>\n",
       "      <th>default</th>\n",
       "      <th>balance</th>\n",
       "      <th>housing</th>\n",
       "      <th>loan</th>\n",
       "      <th>contact</th>\n",
       "      <th>day</th>\n",
       "      <th>...</th>\n",
       "      <th>balance_age</th>\n",
       "      <th>marital_education_value</th>\n",
       "      <th>number_of_contacts</th>\n",
       "      <th>age_category</th>\n",
       "      <th>housing_loan</th>\n",
       "      <th>balance_credits</th>\n",
       "      <th>balance_weight</th>\n",
       "      <th>duration_campaign</th>\n",
       "      <th>balance_square</th>\n",
       "      <th>balance_log</th>\n",
       "    </tr>\n",
       "  </thead>\n",
       "  <tbody>\n",
       "    <tr>\n",
       "      <th>0</th>\n",
       "      <td>30</td>\n",
       "      <td>unemployed</td>\n",
       "      <td>married</td>\n",
       "      <td>0.0</td>\n",
       "      <td>0.0</td>\n",
       "      <td>1787</td>\n",
       "      <td>0.0</td>\n",
       "      <td>0.0</td>\n",
       "      <td>cellular</td>\n",
       "      <td>19</td>\n",
       "      <td>...</td>\n",
       "      <td>59.566667</td>\n",
       "      <td>0.5</td>\n",
       "      <td>0</td>\n",
       "      <td>2.0</td>\n",
       "      <td>3</td>\n",
       "      <td>595.666667</td>\n",
       "      <td>297.833333</td>\n",
       "      <td>79.000000</td>\n",
       "      <td>3193369</td>\n",
       "      <td>3.252125</td>\n",
       "    </tr>\n",
       "    <tr>\n",
       "      <th>1</th>\n",
       "      <td>33</td>\n",
       "      <td>services</td>\n",
       "      <td>married</td>\n",
       "      <td>1.0</td>\n",
       "      <td>0.0</td>\n",
       "      <td>4789</td>\n",
       "      <td>1.0</td>\n",
       "      <td>1.0</td>\n",
       "      <td>cellular</td>\n",
       "      <td>11</td>\n",
       "      <td>...</td>\n",
       "      <td>145.121212</td>\n",
       "      <td>1.0</td>\n",
       "      <td>4</td>\n",
       "      <td>0.0</td>\n",
       "      <td>1</td>\n",
       "      <td>4789.000000</td>\n",
       "      <td>4789.000000</td>\n",
       "      <td>220.000000</td>\n",
       "      <td>22934521</td>\n",
       "      <td>3.680245</td>\n",
       "    </tr>\n",
       "    <tr>\n",
       "      <th>2</th>\n",
       "      <td>35</td>\n",
       "      <td>management</td>\n",
       "      <td>single</td>\n",
       "      <td>2.0</td>\n",
       "      <td>0.0</td>\n",
       "      <td>1350</td>\n",
       "      <td>1.0</td>\n",
       "      <td>0.0</td>\n",
       "      <td>cellular</td>\n",
       "      <td>16</td>\n",
       "      <td>...</td>\n",
       "      <td>38.571429</td>\n",
       "      <td>3.0</td>\n",
       "      <td>1</td>\n",
       "      <td>0.0</td>\n",
       "      <td>2</td>\n",
       "      <td>675.000000</td>\n",
       "      <td>2025.000000</td>\n",
       "      <td>185.000000</td>\n",
       "      <td>1822500</td>\n",
       "      <td>3.130334</td>\n",
       "    </tr>\n",
       "    <tr>\n",
       "      <th>3</th>\n",
       "      <td>30</td>\n",
       "      <td>management</td>\n",
       "      <td>married</td>\n",
       "      <td>2.0</td>\n",
       "      <td>0.0</td>\n",
       "      <td>1476</td>\n",
       "      <td>1.0</td>\n",
       "      <td>1.0</td>\n",
       "      <td>unknown</td>\n",
       "      <td>3</td>\n",
       "      <td>...</td>\n",
       "      <td>49.200000</td>\n",
       "      <td>2.0</td>\n",
       "      <td>0</td>\n",
       "      <td>2.0</td>\n",
       "      <td>1</td>\n",
       "      <td>1476.000000</td>\n",
       "      <td>2952.000000</td>\n",
       "      <td>49.750000</td>\n",
       "      <td>2178576</td>\n",
       "      <td>3.169086</td>\n",
       "    </tr>\n",
       "    <tr>\n",
       "      <th>4</th>\n",
       "      <td>59</td>\n",
       "      <td>blue-collar</td>\n",
       "      <td>married</td>\n",
       "      <td>1.0</td>\n",
       "      <td>0.0</td>\n",
       "      <td>0</td>\n",
       "      <td>1.0</td>\n",
       "      <td>0.0</td>\n",
       "      <td>unknown</td>\n",
       "      <td>5</td>\n",
       "      <td>...</td>\n",
       "      <td>0.000000</td>\n",
       "      <td>1.0</td>\n",
       "      <td>0</td>\n",
       "      <td>1.0</td>\n",
       "      <td>2</td>\n",
       "      <td>0.000000</td>\n",
       "      <td>0.000000</td>\n",
       "      <td>226.000000</td>\n",
       "      <td>0</td>\n",
       "      <td>-inf</td>\n",
       "    </tr>\n",
       "    <tr>\n",
       "      <th>...</th>\n",
       "      <td>...</td>\n",
       "      <td>...</td>\n",
       "      <td>...</td>\n",
       "      <td>...</td>\n",
       "      <td>...</td>\n",
       "      <td>...</td>\n",
       "      <td>...</td>\n",
       "      <td>...</td>\n",
       "      <td>...</td>\n",
       "      <td>...</td>\n",
       "      <td>...</td>\n",
       "      <td>...</td>\n",
       "      <td>...</td>\n",
       "      <td>...</td>\n",
       "      <td>...</td>\n",
       "      <td>...</td>\n",
       "      <td>...</td>\n",
       "      <td>...</td>\n",
       "      <td>...</td>\n",
       "      <td>...</td>\n",
       "      <td>...</td>\n",
       "    </tr>\n",
       "    <tr>\n",
       "      <th>4516</th>\n",
       "      <td>33</td>\n",
       "      <td>services</td>\n",
       "      <td>married</td>\n",
       "      <td>1.0</td>\n",
       "      <td>0.0</td>\n",
       "      <td>-333</td>\n",
       "      <td>1.0</td>\n",
       "      <td>0.0</td>\n",
       "      <td>cellular</td>\n",
       "      <td>30</td>\n",
       "      <td>...</td>\n",
       "      <td>-10.090909</td>\n",
       "      <td>1.0</td>\n",
       "      <td>0</td>\n",
       "      <td>0.0</td>\n",
       "      <td>2</td>\n",
       "      <td>-166.500000</td>\n",
       "      <td>-166.500000</td>\n",
       "      <td>65.800000</td>\n",
       "      <td>110889</td>\n",
       "      <td>NaN</td>\n",
       "    </tr>\n",
       "    <tr>\n",
       "      <th>4517</th>\n",
       "      <td>57</td>\n",
       "      <td>self-employed</td>\n",
       "      <td>married</td>\n",
       "      <td>2.0</td>\n",
       "      <td>1.0</td>\n",
       "      <td>-3313</td>\n",
       "      <td>1.0</td>\n",
       "      <td>1.0</td>\n",
       "      <td>unknown</td>\n",
       "      <td>9</td>\n",
       "      <td>...</td>\n",
       "      <td>-58.122807</td>\n",
       "      <td>2.0</td>\n",
       "      <td>0</td>\n",
       "      <td>1.0</td>\n",
       "      <td>1</td>\n",
       "      <td>-3313.000000</td>\n",
       "      <td>-6626.000000</td>\n",
       "      <td>153.000000</td>\n",
       "      <td>10975969</td>\n",
       "      <td>NaN</td>\n",
       "    </tr>\n",
       "    <tr>\n",
       "      <th>4518</th>\n",
       "      <td>57</td>\n",
       "      <td>technician</td>\n",
       "      <td>married</td>\n",
       "      <td>1.0</td>\n",
       "      <td>0.0</td>\n",
       "      <td>295</td>\n",
       "      <td>0.0</td>\n",
       "      <td>0.0</td>\n",
       "      <td>cellular</td>\n",
       "      <td>19</td>\n",
       "      <td>...</td>\n",
       "      <td>5.175439</td>\n",
       "      <td>1.0</td>\n",
       "      <td>0</td>\n",
       "      <td>1.0</td>\n",
       "      <td>3</td>\n",
       "      <td>98.333333</td>\n",
       "      <td>98.333333</td>\n",
       "      <td>13.727273</td>\n",
       "      <td>87025</td>\n",
       "      <td>2.469822</td>\n",
       "    </tr>\n",
       "    <tr>\n",
       "      <th>4519</th>\n",
       "      <td>28</td>\n",
       "      <td>blue-collar</td>\n",
       "      <td>married</td>\n",
       "      <td>1.0</td>\n",
       "      <td>0.0</td>\n",
       "      <td>1137</td>\n",
       "      <td>0.0</td>\n",
       "      <td>0.0</td>\n",
       "      <td>cellular</td>\n",
       "      <td>6</td>\n",
       "      <td>...</td>\n",
       "      <td>40.607143</td>\n",
       "      <td>1.0</td>\n",
       "      <td>3</td>\n",
       "      <td>2.0</td>\n",
       "      <td>3</td>\n",
       "      <td>379.000000</td>\n",
       "      <td>379.000000</td>\n",
       "      <td>32.250000</td>\n",
       "      <td>1292769</td>\n",
       "      <td>3.055760</td>\n",
       "    </tr>\n",
       "    <tr>\n",
       "      <th>4520</th>\n",
       "      <td>44</td>\n",
       "      <td>entrepreneur</td>\n",
       "      <td>single</td>\n",
       "      <td>2.0</td>\n",
       "      <td>0.0</td>\n",
       "      <td>1136</td>\n",
       "      <td>1.0</td>\n",
       "      <td>1.0</td>\n",
       "      <td>cellular</td>\n",
       "      <td>3</td>\n",
       "      <td>...</td>\n",
       "      <td>25.818182</td>\n",
       "      <td>3.0</td>\n",
       "      <td>7</td>\n",
       "      <td>0.0</td>\n",
       "      <td>1</td>\n",
       "      <td>1136.000000</td>\n",
       "      <td>3408.000000</td>\n",
       "      <td>172.500000</td>\n",
       "      <td>1290496</td>\n",
       "      <td>3.055378</td>\n",
       "    </tr>\n",
       "  </tbody>\n",
       "</table>\n",
       "<p>4521 rows × 28 columns</p>\n",
       "</div>"
      ],
      "text/plain": [
       "      age            job  marital  education  default  balance  housing  loan  \\\n",
       "0      30     unemployed  married        0.0      0.0     1787      0.0   0.0   \n",
       "1      33       services  married        1.0      0.0     4789      1.0   1.0   \n",
       "2      35     management   single        2.0      0.0     1350      1.0   0.0   \n",
       "3      30     management  married        2.0      0.0     1476      1.0   1.0   \n",
       "4      59    blue-collar  married        1.0      0.0        0      1.0   0.0   \n",
       "...   ...            ...      ...        ...      ...      ...      ...   ...   \n",
       "4516   33       services  married        1.0      0.0     -333      1.0   0.0   \n",
       "4517   57  self-employed  married        2.0      1.0    -3313      1.0   1.0   \n",
       "4518   57     technician  married        1.0      0.0      295      0.0   0.0   \n",
       "4519   28    blue-collar  married        1.0      0.0     1137      0.0   0.0   \n",
       "4520   44   entrepreneur   single        2.0      0.0     1136      1.0   1.0   \n",
       "\n",
       "       contact  day  ...  balance_age  marital_education_value  \\\n",
       "0     cellular   19  ...    59.566667                      0.5   \n",
       "1     cellular   11  ...   145.121212                      1.0   \n",
       "2     cellular   16  ...    38.571429                      3.0   \n",
       "3      unknown    3  ...    49.200000                      2.0   \n",
       "4      unknown    5  ...     0.000000                      1.0   \n",
       "...        ...  ...  ...          ...                      ...   \n",
       "4516  cellular   30  ...   -10.090909                      1.0   \n",
       "4517   unknown    9  ...   -58.122807                      2.0   \n",
       "4518  cellular   19  ...     5.175439                      1.0   \n",
       "4519  cellular    6  ...    40.607143                      1.0   \n",
       "4520  cellular    3  ...    25.818182                      3.0   \n",
       "\n",
       "      number_of_contacts  age_category  housing_loan balance_credits  \\\n",
       "0                      0           2.0             3      595.666667   \n",
       "1                      4           0.0             1     4789.000000   \n",
       "2                      1           0.0             2      675.000000   \n",
       "3                      0           2.0             1     1476.000000   \n",
       "4                      0           1.0             2        0.000000   \n",
       "...                  ...           ...           ...             ...   \n",
       "4516                   0           0.0             2     -166.500000   \n",
       "4517                   0           1.0             1    -3313.000000   \n",
       "4518                   0           1.0             3       98.333333   \n",
       "4519                   3           2.0             3      379.000000   \n",
       "4520                   7           0.0             1     1136.000000   \n",
       "\n",
       "      balance_weight  duration_campaign   balance_square  balance_log  \n",
       "0         297.833333           79.000000         3193369     3.252125  \n",
       "1        4789.000000          220.000000        22934521     3.680245  \n",
       "2        2025.000000          185.000000         1822500     3.130334  \n",
       "3        2952.000000           49.750000         2178576     3.169086  \n",
       "4           0.000000          226.000000               0         -inf  \n",
       "...              ...                 ...             ...          ...  \n",
       "4516     -166.500000           65.800000          110889          NaN  \n",
       "4517    -6626.000000          153.000000        10975969          NaN  \n",
       "4518       98.333333           13.727273           87025     2.469822  \n",
       "4519      379.000000           32.250000         1292769     3.055760  \n",
       "4520     3408.000000          172.500000         1290496     3.055378  \n",
       "\n",
       "[4521 rows x 28 columns]"
      ]
     },
     "execution_count": 24,
     "metadata": {},
     "output_type": "execute_result"
    }
   ],
   "source": [
    "df"
   ]
  },
  {
   "cell_type": "code",
   "execution_count": 25,
   "metadata": {},
   "outputs": [],
   "source": [
    "job = []\n",
    "for i,r in df.iterrows():\n",
    "    job.append(r['job'] + '_job')\n",
    "df['job'] = job\n",
    "oe_style = OneHotEncoder()\n",
    "job = oe_style.fit_transform(df[['job']])\n",
    "df = df.join(pd.DataFrame(job.toarray(), columns=oe_style.categories_))"
   ]
  },
  {
   "cell_type": "code",
   "execution_count": 26,
   "metadata": {},
   "outputs": [],
   "source": [
    "oe_style = OneHotEncoder()\n",
    "marital = oe_style.fit_transform(df[['marital']])\n",
    "df = df.join(pd.DataFrame(marital.toarray(), columns=oe_style.categories_))"
   ]
  },
  {
   "cell_type": "code",
   "execution_count": 27,
   "metadata": {},
   "outputs": [],
   "source": [
    "contact = []\n",
    "for i,r in df.iterrows():\n",
    "    contact.append(r['contact'] + '_contact')\n",
    "df['contact'] = contact\n",
    "oe_style = OneHotEncoder()\n",
    "contact = oe_style.fit_transform(df[['contact']])\n",
    "df = df.join(pd.DataFrame(contact.toarray(), columns=oe_style.categories_))"
   ]
  },
  {
   "cell_type": "code",
   "execution_count": 28,
   "metadata": {},
   "outputs": [],
   "source": [
    "poutcome = []\n",
    "for i,r in df.iterrows():\n",
    "    poutcome.append(r['poutcome'] + '_poutcome')\n",
    "df['poutcome'] = poutcome\n",
    "oe_style = OneHotEncoder()\n",
    "poutcome = oe_style.fit_transform(df[[\"poutcome\"]])\n",
    "df = df.join(pd.DataFrame(poutcome.toarray(), columns=oe_style.categories_))"
   ]
  },
  {
   "cell_type": "code",
   "execution_count": 29,
   "metadata": {},
   "outputs": [],
   "source": [
    "df = df.drop(['job','marital','poutcome','contact'],axis=1)"
   ]
  },
  {
   "cell_type": "code",
   "execution_count": 30,
   "metadata": {},
   "outputs": [
    {
     "data": {
      "text/plain": [
       "age                          int64\n",
       "education                  float64\n",
       "default                    float64\n",
       "balance                      int64\n",
       "housing                    float64\n",
       "loan                       float64\n",
       "day                          int64\n",
       "month                        int64\n",
       "duration                     int64\n",
       "campaign                     int64\n",
       "pdays                        int64\n",
       "previous                     int64\n",
       "y                          float64\n",
       "balance_category           float64\n",
       "balance_age                float64\n",
       "marital_education_value    float64\n",
       "number_of_contacts           int64\n",
       "age_category               float64\n",
       "housing_loan                 int64\n",
       "balance_credits            float64\n",
       "balance_weight             float64\n",
       "duration_campaign          float64\n",
       "balance_square               int64\n",
       "balance_log                float64\n",
       "(admin._job,)              float64\n",
       "(blue-collar_job,)         float64\n",
       "(entrepreneur_job,)        float64\n",
       "(housemaid_job,)           float64\n",
       "(management_job,)          float64\n",
       "(retired_job,)             float64\n",
       "(self-employed_job,)       float64\n",
       "(services_job,)            float64\n",
       "(student_job,)             float64\n",
       "(technician_job,)          float64\n",
       "(unemployed_job,)          float64\n",
       "(unknown_job,)             float64\n",
       "(divorced,)                float64\n",
       "(married,)                 float64\n",
       "(single,)                  float64\n",
       "(cellular_contact,)        float64\n",
       "(telephone_contact,)       float64\n",
       "(unknown_contact,)         float64\n",
       "(failure_poutcome,)        float64\n",
       "(other_poutcome,)          float64\n",
       "(success_poutcome,)        float64\n",
       "(unknown_poutcome,)        float64\n",
       "dtype: object"
      ]
     },
     "execution_count": 30,
     "metadata": {},
     "output_type": "execute_result"
    }
   ],
   "source": [
    "df.dtypes"
   ]
  },
  {
   "cell_type": "code",
   "execution_count": 31,
   "metadata": {},
   "outputs": [],
   "source": [
    "# z modelu usuwam jedynie zmienną duration, ponieważ taka zmienna nie powinna być brana do modelu. Reszta zmiennych została sprawdzona w programie excel pod względem współczynnika zmienności. Żaden współczynnik nie wyniósł <10% zatem cała reszta zmiennych pozostaje w modelu"
   ]
  },
  {
   "cell_type": "code",
   "execution_count": 32,
   "metadata": {},
   "outputs": [],
   "source": [
    "df = df.drop('duration', axis=1)"
   ]
  },
  {
   "cell_type": "code",
   "execution_count": 33,
   "metadata": {},
   "outputs": [],
   "source": [
    "#ustalam zmienne objaśniające i zmienną objaśnianą\n",
    "X = df.drop(columns=['y'])\n",
    "y = df['y']"
   ]
  },
  {
   "cell_type": "code",
   "execution_count": 34,
   "metadata": {},
   "outputs": [],
   "source": [
    "# w zmiennych wystąpiły wartości infinity więc zastępuję te zmienne dużą liczbą\n",
    "X.replace([np.inf, -np.inf], 10000, inplace=True)"
   ]
  },
  {
   "cell_type": "code",
   "execution_count": 35,
   "metadata": {},
   "outputs": [],
   "source": [
    "X.isna().sum()\n",
    "#widać że w balance_log występują wartości Nan więc zastępuje je 0\n",
    "X = X.fillna(0)"
   ]
  },
  {
   "cell_type": "code",
   "execution_count": 36,
   "metadata": {},
   "outputs": [],
   "source": [
    "X_train, X_test, y_train, y_test = train_test_split(X, y, test_size = 0.4, random_state = 0)"
   ]
  },
  {
   "cell_type": "code",
   "execution_count": 37,
   "metadata": {},
   "outputs": [],
   "source": [
    "# Standaryzacja\n",
    "scaler = MinMaxScaler()\n",
    "X_test = scaler.fit_transform(X_test)\n",
    "X_train = scaler.fit_transform(X_train)"
   ]
  },
  {
   "cell_type": "markdown",
   "metadata": {},
   "source": [
    "# Regresja logistyczna"
   ]
  },
  {
   "cell_type": "code",
   "execution_count": 38,
   "metadata": {},
   "outputs": [
    {
     "name": "stdout",
     "output_type": "stream",
     "text": [
      "Accuracy Train Data: 0.9\n",
      "Roc Auc Score Train Data: 0.61\n",
      "Precision Train Data: 0.69\n",
      "F1 Train Data: 0.34\n",
      "Recall Train Data: 0.23\n"
     ]
    },
    {
     "data": {
      "image/png": "[encoded data removed]",
      "text/plain": [
       "<Figure size 576x576 with 2 Axes>"
      ]
     },
     "metadata": {
      "needs_background": "light"
     },
     "output_type": "display_data"
    },
    {
     "data": {
      "image/png": "[encoded data removed]",
      "text/plain": [
       "<Figure size 432x288 with 1 Axes>"
      ]
     },
     "metadata": {
      "needs_background": "light"
     },
     "output_type": "display_data"
    },
    {
     "name": "stdout",
     "output_type": "stream",
     "text": [
      "Accuracy Test Data: 0.89\n",
      "Roc Auc Score Test Data: 0.56\n",
      "Precision Test Data: 0.64\n",
      "F1 Test Data: 0.21\n",
      "Recall Test Data: 0.13\n"
     ]
    },
    {
     "data": {
      "image/png": "[encoded data removed]",
      "text/plain": [
       "<Figure size 576x576 with 2 Axes>"
      ]
     },
     "metadata": {
      "needs_background": "light"
     },
     "output_type": "display_data"
    },
    {
     "data": {
      "image/png": "[encoded data removed]",
      "text/plain": [
       "<Figure size 432x288 with 1 Axes>"
      ]
     },
     "metadata": {
      "needs_background": "light"
     },
     "output_type": "display_data"
    }
   ],
   "source": [
    "LR = LogisticRegression(solver = 'liblinear', random_state=0)\n",
    "LR.fit(X_train, y_train)\n",
    "y_pred_test = LR.predict(X_test)\n",
    "y_pred_train = LR.predict(X_train)\n",
    "\n",
    "names = ['Miary']\n",
    "accuracy_train = ['Accuracy']\n",
    "roc_train = ['Roc']\n",
    "precision_train = ['Precision']\n",
    "f1_train = ['F1']\n",
    "recall_train = ['Recall']\n",
    "accuracy_test = ['Accuracy']\n",
    "roc_test = ['Roc']\n",
    "precision_test = ['Precision']\n",
    "f1_test = ['F1']\n",
    "recall_test = ['Recall']\n",
    "\n",
    "names.append('Regresja logistyczna')\n",
    "\n",
    "\n",
    "print(\"Accuracy Train Data: \"+str(round(accuracy_score(y_train, y_pred_train),2)))\n",
    "accuracy_train.append(str(round(accuracy_score(y_train, y_pred_train),2)))\n",
    "print(\"Roc Auc Score Train Data: \"+str(round(roc_auc_score(y_train, y_pred_train),2)))\n",
    "roc_train.append(str(round(roc_auc_score(y_train, y_pred_train),2)))\n",
    "print(\"Precision Train Data: \"+str(round(precision_score(y_train, y_pred_train),2)))\n",
    "precision_train.append(str(round(precision_score(y_train, y_pred_train),2)))\n",
    "print(\"F1 Train Data: \"+str(round(f1_score(y_train, y_pred_train),2)))\n",
    "f1_train.append(str(round(f1_score(y_train, y_pred_train),2)))\n",
    "print(\"Recall Train Data: \"+str(round(recall_score(y_train, y_pred_train),2)))\n",
    "recall_train.append(str(round(recall_score(y_train, y_pred_train),2)))\n",
    "\n",
    "confusion_matrix = metrics.confusion_matrix(y_train, y_pred_train)\n",
    "plt.figure(figsize=(8,8))\n",
    "sns.heatmap(confusion_matrix, annot=True, fmt=\".1f\", linewidths=.5, square = True, cmap='Reds');\n",
    "plt.ylabel('Actual');\n",
    "plt.xlabel('Predicted');\n",
    "title = 'Accuracy Score Train: {0}'.format(accuracy_score(y_train, y_pred_train))\n",
    "plt.title(title, size = 15);\n",
    "\n",
    "metrics.plot_roc_curve(LR, X_train, y_train)\n",
    "plt.title(\"Krzywa ROC Train Data\")\n",
    "plt.show() \n",
    "\n",
    "\n",
    "print(\"Accuracy Test Data: \"+str(round(accuracy_score(y_test, y_pred_test),2)))\n",
    "accuracy_test.append(str(round(accuracy_score(y_test, y_pred_test),2)))\n",
    "print(\"Roc Auc Score Test Data: \"+str(round(roc_auc_score(y_test, y_pred_test),2)))\n",
    "roc_test.append(str(round(roc_auc_score(y_test, y_pred_test),2)))\n",
    "print(\"Precision Test Data: \"+str(round(precision_score(y_test, y_pred_test),2)))\n",
    "precision_test.append(str(round(precision_score(y_test, y_pred_test),2)))\n",
    "print(\"F1 Test Data: \"+str(round(f1_score(y_test, y_pred_test),2)))\n",
    "f1_test.append(str(round(f1_score(y_test, y_pred_test),2)))\n",
    "print(\"Recall Test Data: \"+str(round(recall_score(y_test, y_pred_test),2)))\n",
    "recall_test.append(str(round(recall_score(y_test, y_pred_test),2)))\n",
    "\n",
    "confusion_matrix = metrics.confusion_matrix(y_test, y_pred_test)\n",
    "plt.figure(figsize=(8,8))\n",
    "sns.heatmap(confusion_matrix, annot=True, fmt=\".1f\", linewidths=.5, square = True, cmap='Reds');\n",
    "plt.ylabel('Actual');\n",
    "plt.xlabel('Predicted');\n",
    "title = 'Accuracy Score Test: {0}'.format(accuracy_score(y_test, y_pred_test))\n",
    "plt.title(title, size = 15);\n",
    "\n",
    "metrics.plot_roc_curve(LR, X_test, y_test)\n",
    "plt.title(\"Krzywa ROC Test Data\")\n",
    "plt.show() "
   ]
  },
  {
   "cell_type": "markdown",
   "metadata": {},
   "source": [
    "# SVM"
   ]
  },
  {
   "cell_type": "code",
   "execution_count": 39,
   "metadata": {},
   "outputs": [
    {
     "name": "stdout",
     "output_type": "stream",
     "text": [
      "Accuracy Train Data: 0.89\n",
      "Roc Auc Score Train Data: 0.58\n",
      "Precision Train Data: 0.62\n",
      "F1 Train Data: 0.27\n",
      "Recall Train Data: 0.17\n"
     ]
    },
    {
     "data": {
      "image/png": "[encoded data removed]",
      "text/plain": [
       "<Figure size 576x576 with 2 Axes>"
      ]
     },
     "metadata": {
      "needs_background": "light"
     },
     "output_type": "display_data"
    },
    {
     "data": {
      "image/png": "[encoded data removed]",
      "text/plain": [
       "<Figure size 432x288 with 1 Axes>"
      ]
     },
     "metadata": {
      "needs_background": "light"
     },
     "output_type": "display_data"
    },
    {
     "name": "stdout",
     "output_type": "stream",
     "text": [
      "Accuracy Test Data: 0.89\n",
      "Roc Auc Score Test Data: 0.57\n",
      "Precision Test Data: 0.7\n",
      "F1 Test Data: 0.23\n",
      "Recall Test Data: 0.14\n"
     ]
    },
    {
     "data": {
      "image/png": "[encoded data removed]",
      "text/plain": [
       "<Figure size 576x576 with 2 Axes>"
      ]
     },
     "metadata": {
      "needs_background": "light"
     },
     "output_type": "display_data"
    },
    {
     "data": {
      "image/png": "[encoded data removed]",
      "text/plain": [
       "<Figure size 432x288 with 1 Axes>"
      ]
     },
     "metadata": {
      "needs_background": "light"
     },
     "output_type": "display_data"
    }
   ],
   "source": [
    "SVC = SVC(kernel = 'linear')\n",
    "SVC.fit(X_train, y_train)\n",
    "y_pred_test = SVC.predict(X_test)\n",
    "y_pred_train = SVC.predict(X_train) \n",
    "\n",
    "\n",
    "names.append('SVM')\n",
    "\n",
    "\n",
    "print(\"Accuracy Train Data: \"+str(round(accuracy_score(y_train, y_pred_train),2)))\n",
    "accuracy_train.append(str(round(accuracy_score(y_train, y_pred_train),2)))\n",
    "print(\"Roc Auc Score Train Data: \"+str(round(roc_auc_score(y_train, y_pred_train),2)))\n",
    "roc_train.append(str(round(roc_auc_score(y_train, y_pred_train),2)))\n",
    "print(\"Precision Train Data: \"+str(round(precision_score(y_train, y_pred_train),2)))\n",
    "precision_train.append(str(round(precision_score(y_train, y_pred_train),2)))\n",
    "print(\"F1 Train Data: \"+str(round(f1_score(y_train, y_pred_train),2)))\n",
    "f1_train.append(str(round(f1_score(y_train, y_pred_train),2)))\n",
    "print(\"Recall Train Data: \"+str(round(recall_score(y_train, y_pred_train),2)))\n",
    "recall_train.append(str(round(recall_score(y_train, y_pred_train),2)))\n",
    "\n",
    "confusion_matrix = metrics.confusion_matrix(y_train, y_pred_train)\n",
    "plt.figure(figsize=(8,8))\n",
    "sns.heatmap(confusion_matrix, annot=True, fmt=\".1f\", linewidths=.5, square = True, cmap='Reds');\n",
    "plt.ylabel('Actual');\n",
    "plt.xlabel('Predicted');\n",
    "title = 'Accuracy Score Train: {0}'.format(accuracy_score(y_train, y_pred_train))\n",
    "plt.title(title, size = 15);\n",
    "\n",
    "metrics.plot_roc_curve(SVC, X_train, y_train)\n",
    "plt.title(\"Krzywa ROC Train Data\")\n",
    "plt.show() \n",
    "\n",
    "\n",
    "print(\"Accuracy Test Data: \"+str(round(accuracy_score(y_test, y_pred_test),2)))\n",
    "accuracy_test.append(str(round(accuracy_score(y_test, y_pred_test),2)))\n",
    "print(\"Roc Auc Score Test Data: \"+str(round(roc_auc_score(y_test, y_pred_test),2)))\n",
    "roc_test.append(str(round(roc_auc_score(y_test, y_pred_test),2)))\n",
    "print(\"Precision Test Data: \"+str(round(precision_score(y_test, y_pred_test),2)))\n",
    "precision_test.append(str(round(precision_score(y_test, y_pred_test),2)))\n",
    "print(\"F1 Test Data: \"+str(round(f1_score(y_test, y_pred_test),2)))\n",
    "f1_test.append(str(round(f1_score(y_test, y_pred_test),2)))\n",
    "print(\"Recall Test Data: \"+str(round(recall_score(y_test, y_pred_test),2)))\n",
    "recall_test.append(str(round(recall_score(y_test, y_pred_test),2)))\n",
    "\n",
    "confusion_matrix = metrics.confusion_matrix(y_test, y_pred_test)\n",
    "plt.figure(figsize=(8,8))\n",
    "sns.heatmap(confusion_matrix, annot=True, fmt=\".1f\", linewidths=.5, square = True, cmap='Reds');\n",
    "plt.ylabel('Actual');\n",
    "plt.xlabel('Predicted');\n",
    "title = 'Accuracy Score Test: {0}'.format(accuracy_score(y_test, y_pred_test))\n",
    "plt.title(title, size = 15);\n",
    "\n",
    "metrics.plot_roc_curve(SVC, X_test, y_test)\n",
    "plt.title(\"Krzywa ROC Test Data\")\n",
    "plt.show() "
   ]
  },
  {
   "cell_type": "markdown",
   "metadata": {},
   "source": [
    "# Drzewo decyzyjne - kryterium entropy"
   ]
  },
  {
   "cell_type": "code",
   "execution_count": 40,
   "metadata": {},
   "outputs": [
    {
     "name": "stdout",
     "output_type": "stream",
     "text": [
      "Accuracy Train Data: 1.0\n",
      "Roc Auc Score Train Data: 1.0\n",
      "Precision Train Data: 1.0\n",
      "F1 Train Data: 1.0\n",
      "Recall Train Data: 1.0\n"
     ]
    },
    {
     "data": {
      "image/png": "[encoded data removed]",
      "text/plain": [
       "<Figure size 576x576 with 2 Axes>"
      ]
     },
     "metadata": {
      "needs_background": "light"
     },
     "output_type": "display_data"
    },
    {
     "data": {
      "image/png": "[encoded data removed]",
      "text/plain": [
       "<Figure size 432x288 with 1 Axes>"
      ]
     },
     "metadata": {
      "needs_background": "light"
     },
     "output_type": "display_data"
    },
    {
     "name": "stdout",
     "output_type": "stream",
     "text": [
      "Accuracy Test Data: 0.82\n",
      "Roc Auc Score Test Data: 0.61\n",
      "Precision Test Data: 0.28\n",
      "F1 Test Data: 0.31\n",
      "Recall Test Data: 0.34\n"
     ]
    },
    {
     "data": {
      "image/png": "[encoded data removed]",
      "text/plain": [
       "<Figure size 576x576 with 2 Axes>"
      ]
     },
     "metadata": {
      "needs_background": "light"
     },
     "output_type": "display_data"
    },
    {
     "data": {
      "image/png": "[encoded data removed]",
      "text/plain": [
       "<Figure size 432x288 with 1 Axes>"
      ]
     },
     "metadata": {
      "needs_background": "light"
     },
     "output_type": "display_data"
    }
   ],
   "source": [
    "DT = DecisionTreeClassifier(criterion = 'entropy', random_state = 0 , splitter = 'best')\n",
    "DT.fit(X_train, y_train)\n",
    "y_pred_test = DT.predict(X_test)\n",
    "y_pred_train = DT.predict(X_train) \n",
    "\n",
    "names.append('Drzewo decyzyjne')\n",
    "\n",
    "\n",
    "print(\"Accuracy Train Data: \"+str(round(accuracy_score(y_train, y_pred_train),2)))\n",
    "accuracy_train.append(str(round(accuracy_score(y_train, y_pred_train),2)))\n",
    "print(\"Roc Auc Score Train Data: \"+str(round(roc_auc_score(y_train, y_pred_train),2)))\n",
    "roc_train.append(str(round(roc_auc_score(y_train, y_pred_train),2)))\n",
    "print(\"Precision Train Data: \"+str(round(precision_score(y_train, y_pred_train),2)))\n",
    "precision_train.append(str(round(precision_score(y_train, y_pred_train),2)))\n",
    "print(\"F1 Train Data: \"+str(round(f1_score(y_train, y_pred_train),2)))\n",
    "f1_train.append(str(round(f1_score(y_train, y_pred_train),2)))\n",
    "print(\"Recall Train Data: \"+str(round(recall_score(y_train, y_pred_train),2)))\n",
    "recall_train.append(str(round(recall_score(y_train, y_pred_train),2)))\n",
    "\n",
    "confusion_matrix = metrics.confusion_matrix(y_train, y_pred_train)\n",
    "plt.figure(figsize=(8,8))\n",
    "sns.heatmap(confusion_matrix, annot=True, fmt=\".1f\", linewidths=.5, square = True, cmap='Reds');\n",
    "plt.ylabel('Actual');\n",
    "plt.xlabel('Predicted');\n",
    "title = 'Accuracy Score Train: {0}'.format(accuracy_score(y_train, y_pred_train))\n",
    "plt.title(title, size = 15);\n",
    "\n",
    "metrics.plot_roc_curve(DT, X_train, y_train)\n",
    "plt.title(\"Krzywa ROC Train Data\")\n",
    "plt.show() \n",
    "\n",
    "\n",
    "print(\"Accuracy Test Data: \"+str(round(accuracy_score(y_test, y_pred_test),2)))\n",
    "accuracy_test.append(str(round(accuracy_score(y_test, y_pred_test),2)))\n",
    "print(\"Roc Auc Score Test Data: \"+str(round(roc_auc_score(y_test, y_pred_test),2)))\n",
    "roc_test.append(str(round(roc_auc_score(y_test, y_pred_test),2)))\n",
    "print(\"Precision Test Data: \"+str(round(precision_score(y_test, y_pred_test),2)))\n",
    "precision_test.append(str(round(precision_score(y_test, y_pred_test),2)))\n",
    "print(\"F1 Test Data: \"+str(round(f1_score(y_test, y_pred_test),2)))\n",
    "f1_test.append(str(round(f1_score(y_test, y_pred_test),2)))\n",
    "print(\"Recall Test Data: \"+str(round(recall_score(y_test, y_pred_test),2)))\n",
    "recall_test.append(str(round(recall_score(y_test, y_pred_test),2)))\n",
    "\n",
    "confusion_matrix = metrics.confusion_matrix(y_test, y_pred_test)\n",
    "plt.figure(figsize=(8,8))\n",
    "sns.heatmap(confusion_matrix, annot=True, fmt=\".1f\", linewidths=.5, square = True, cmap='Reds');\n",
    "plt.ylabel('Actual');\n",
    "plt.xlabel('Predicted');\n",
    "title = 'Accuracy Score Test: {0}'.format(accuracy_score(y_test, y_pred_test))\n",
    "plt.title(title, size = 15);\n",
    "\n",
    "metrics.plot_roc_curve(DT, X_test, y_test)\n",
    "plt.title(\"Krzywa ROC Test Data\")\n",
    "plt.show() "
   ]
  },
  {
   "cell_type": "markdown",
   "metadata": {},
   "source": [
    "# Algorytm K najbliższych sąsiadów"
   ]
  },
  {
   "cell_type": "code",
   "execution_count": 41,
   "metadata": {},
   "outputs": [
    {
     "name": "stdout",
     "output_type": "stream",
     "text": [
      "Accuracy Train Data: 0.91\n",
      "Roc Auc Score Train Data: 0.62\n",
      "Precision Train Data: 0.75\n",
      "F1 Train Data: 0.37\n",
      "Recall Train Data: 0.25\n"
     ]
    },
    {
     "data": {
      "image/png": "[encoded data removed]",
      "text/plain": [
       "<Figure size 576x576 with 2 Axes>"
      ]
     },
     "metadata": {
      "needs_background": "light"
     },
     "output_type": "display_data"
    },
    {
     "data": {
      "image/png": "[encoded data removed]",
      "text/plain": [
       "<Figure size 432x288 with 1 Axes>"
      ]
     },
     "metadata": {
      "needs_background": "light"
     },
     "output_type": "display_data"
    },
    {
     "name": "stdout",
     "output_type": "stream",
     "text": [
      "Accuracy Test Data: 0.88\n",
      "Roc Auc Score Test Data: 0.54\n",
      "Precision Test Data: 0.41\n",
      "F1 Test Data: 0.16\n",
      "Recall Test Data: 0.1\n"
     ]
    },
    {
     "data": {
      "image/png": "[encoded data removed]",
      "text/plain": [
       "<Figure size 576x576 with 2 Axes>"
      ]
     },
     "metadata": {
      "needs_background": "light"
     },
     "output_type": "display_data"
    },
    {
     "data": {
      "image/png": "[encoded data removed]",
      "text/plain": [
       "<Figure size 432x288 with 1 Axes>"
      ]
     },
     "metadata": {
      "needs_background": "light"
     },
     "output_type": "display_data"
    }
   ],
   "source": [
    "KN = KNeighborsClassifier(metric = \"euclidean\")\n",
    "KN.fit(X_train, y_train)\n",
    "y_pred_test = KN.predict(X_test)\n",
    "y_pred_train = KN.predict(X_train) \n",
    "\n",
    "names.append('K najbliższych sąsiadów')\n",
    "\n",
    "\n",
    "print(\"Accuracy Train Data: \"+str(round(accuracy_score(y_train, y_pred_train),2)))\n",
    "accuracy_train.append(str(round(accuracy_score(y_train, y_pred_train),2)))\n",
    "print(\"Roc Auc Score Train Data: \"+str(round(roc_auc_score(y_train, y_pred_train),2)))\n",
    "roc_train.append(str(round(roc_auc_score(y_train, y_pred_train),2)))\n",
    "print(\"Precision Train Data: \"+str(round(precision_score(y_train, y_pred_train),2)))\n",
    "precision_train.append(str(round(precision_score(y_train, y_pred_train),2)))\n",
    "print(\"F1 Train Data: \"+str(round(f1_score(y_train, y_pred_train),2)))\n",
    "f1_train.append(str(round(f1_score(y_train, y_pred_train),2)))\n",
    "print(\"Recall Train Data: \"+str(round(recall_score(y_train, y_pred_train),2)))\n",
    "recall_train.append(str(round(recall_score(y_train, y_pred_train),2)))\n",
    "\n",
    "confusion_matrix = metrics.confusion_matrix(y_train, y_pred_train)\n",
    "plt.figure(figsize=(8,8))\n",
    "sns.heatmap(confusion_matrix, annot=True, fmt=\".1f\", linewidths=.5, square = True, cmap='Reds');\n",
    "plt.ylabel('Actual');\n",
    "plt.xlabel('Predicted');\n",
    "title = 'Accuracy Score Train: {0}'.format(accuracy_score(y_train, y_pred_train))\n",
    "plt.title(title, size = 15);\n",
    "\n",
    "metrics.plot_roc_curve(KN, X_train, y_train)\n",
    "plt.title(\"Krzywa ROC Train Data\")\n",
    "plt.show() \n",
    "\n",
    "\n",
    "print(\"Accuracy Test Data: \"+str(round(accuracy_score(y_test, y_pred_test),2)))\n",
    "accuracy_test.append(str(round(accuracy_score(y_test, y_pred_test),2)))\n",
    "print(\"Roc Auc Score Test Data: \"+str(round(roc_auc_score(y_test, y_pred_test),2)))\n",
    "roc_test.append(str(round(roc_auc_score(y_test, y_pred_test),2)))\n",
    "print(\"Precision Test Data: \"+str(round(precision_score(y_test, y_pred_test),2)))\n",
    "precision_test.append(str(round(precision_score(y_test, y_pred_test),2)))\n",
    "print(\"F1 Test Data: \"+str(round(f1_score(y_test, y_pred_test),2)))\n",
    "f1_test.append(str(round(f1_score(y_test, y_pred_test),2)))\n",
    "print(\"Recall Test Data: \"+str(round(recall_score(y_test, y_pred_test),2)))\n",
    "recall_test.append(str(round(recall_score(y_test, y_pred_test),2)))\n",
    "\n",
    "confusion_matrix = metrics.confusion_matrix(y_test, y_pred_test)\n",
    "plt.figure(figsize=(8,8))\n",
    "sns.heatmap(confusion_matrix, annot=True, fmt=\".1f\", linewidths=.5, square = True, cmap='Reds');\n",
    "plt.ylabel('Actual');\n",
    "plt.xlabel('Predicted');\n",
    "title = 'Accuracy Score Test: {0}'.format(accuracy_score(y_test, y_pred_test))\n",
    "plt.title(title, size = 15);\n",
    "\n",
    "metrics.plot_roc_curve(KN, X_test, y_test)\n",
    "plt.title(\"Krzywa ROC Test Data\")\n",
    "plt.show() "
   ]
  },
  {
   "cell_type": "markdown",
   "metadata": {},
   "source": [
    "# Lasy losowe kryterium Gini"
   ]
  },
  {
   "cell_type": "code",
   "execution_count": 42,
   "metadata": {},
   "outputs": [
    {
     "name": "stdout",
     "output_type": "stream",
     "text": [
      "Accuracy Train Data: 1.0\n",
      "Roc Auc Score Train Data: 1.0\n",
      "Precision Train Data: 1.0\n",
      "F1 Train Data: 1.0\n",
      "Recall Train Data: 1.0\n"
     ]
    },
    {
     "data": {
      "image/png": "[encoded data removed]",
      "text/plain": [
       "<Figure size 576x576 with 2 Axes>"
      ]
     },
     "metadata": {
      "needs_background": "light"
     },
     "output_type": "display_data"
    },
    {
     "data": {
      "image/png": "[encoded data removed]",
      "text/plain": [
       "<Figure size 432x288 with 1 Axes>"
      ]
     },
     "metadata": {
      "needs_background": "light"
     },
     "output_type": "display_data"
    },
    {
     "name": "stdout",
     "output_type": "stream",
     "text": [
      "Accuracy Test Data: 0.88\n",
      "Roc Auc Score Test Data: 0.52\n",
      "Precision Test Data: 0.59\n",
      "F1 Test Data: 0.09\n",
      "Recall Test Data: 0.05\n"
     ]
    },
    {
     "data": {
      "image/png": "[encoded data removed]",
      "text/plain": [
       "<Figure size 576x576 with 2 Axes>"
      ]
     },
     "metadata": {
      "needs_background": "light"
     },
     "output_type": "display_data"
    },
    {
     "data": {
      "image/png": "[encoded data removed]",
      "text/plain": [
       "<Figure size 432x288 with 1 Axes>"
      ]
     },
     "metadata": {
      "needs_background": "light"
     },
     "output_type": "display_data"
    }
   ],
   "source": [
    "RF = RandomForestClassifier(criterion = 'gini')\n",
    "RF.fit(X_train, y_train)\n",
    "y_pred_test = RF.predict(X_test)\n",
    "y_pred_train = RF.predict(X_train) \n",
    "\n",
    "names.append('Lasy losowe')\n",
    "\n",
    "\n",
    "print(\"Accuracy Train Data: \"+str(round(accuracy_score(y_train, y_pred_train),2)))\n",
    "accuracy_train.append(str(round(accuracy_score(y_train, y_pred_train),2)))\n",
    "print(\"Roc Auc Score Train Data: \"+str(round(roc_auc_score(y_train, y_pred_train),2)))\n",
    "roc_train.append(str(round(roc_auc_score(y_train, y_pred_train),2)))\n",
    "print(\"Precision Train Data: \"+str(round(precision_score(y_train, y_pred_train),2)))\n",
    "precision_train.append(str(round(precision_score(y_train, y_pred_train),2)))\n",
    "print(\"F1 Train Data: \"+str(round(f1_score(y_train, y_pred_train),2)))\n",
    "f1_train.append(str(round(f1_score(y_train, y_pred_train),2)))\n",
    "print(\"Recall Train Data: \"+str(round(recall_score(y_train, y_pred_train),2)))\n",
    "recall_train.append(str(round(recall_score(y_train, y_pred_train),2)))\n",
    "\n",
    "confusion_matrix = metrics.confusion_matrix(y_train, y_pred_train)\n",
    "plt.figure(figsize=(8,8))\n",
    "sns.heatmap(confusion_matrix, annot=True, fmt=\".1f\", linewidths=.5, square = True, cmap='Reds');\n",
    "plt.ylabel('Actual');\n",
    "plt.xlabel('Predicted');\n",
    "title = 'Accuracy Score Train: {0}'.format(accuracy_score(y_train, y_pred_train))\n",
    "plt.title(title, size = 15);\n",
    "\n",
    "metrics.plot_roc_curve(RF, X_train, y_train)\n",
    "plt.title(\"Krzywa ROC Train Data\")\n",
    "plt.show() \n",
    "\n",
    "\n",
    "print(\"Accuracy Test Data: \"+str(round(accuracy_score(y_test, y_pred_test),2)))\n",
    "accuracy_test.append(str(round(accuracy_score(y_test, y_pred_test),2)))\n",
    "print(\"Roc Auc Score Test Data: \"+str(round(roc_auc_score(y_test, y_pred_test),2)))\n",
    "roc_test.append(str(round(roc_auc_score(y_test, y_pred_test),2)))\n",
    "print(\"Precision Test Data: \"+str(round(precision_score(y_test, y_pred_test),2)))\n",
    "precision_test.append(str(round(precision_score(y_test, y_pred_test),2)))\n",
    "print(\"F1 Test Data: \"+str(round(f1_score(y_test, y_pred_test),2)))\n",
    "f1_test.append(str(round(f1_score(y_test, y_pred_test),2)))\n",
    "print(\"Recall Test Data: \"+str(round(recall_score(y_test, y_pred_test),2)))\n",
    "recall_test.append(str(round(recall_score(y_test, y_pred_test),2)))\n",
    "\n",
    "confusion_matrix = metrics.confusion_matrix(y_test, y_pred_test)\n",
    "plt.figure(figsize=(8,8))\n",
    "sns.heatmap(confusion_matrix, annot=True, fmt=\".1f\", linewidths=.5, square = True, cmap='Reds');\n",
    "plt.ylabel('Actual');\n",
    "plt.xlabel('Predicted');\n",
    "title = 'Accuracy Score Test: {0}'.format(accuracy_score(y_test, y_pred_test))\n",
    "plt.title(title, size = 15);\n",
    "\n",
    "metrics.plot_roc_curve(RF, X_test, y_test)\n",
    "plt.title(\"Krzywa ROC Test Data\")\n",
    "plt.show() \n",
    "\n"
   ]
  },
  {
   "cell_type": "markdown",
   "metadata": {},
   "source": [
    "# Naiwny klasyfikator bayesowski"
   ]
  },
  {
   "cell_type": "code",
   "execution_count": 43,
   "metadata": {},
   "outputs": [
    {
     "name": "stdout",
     "output_type": "stream",
     "text": [
      "Accuracy Train Data: 0.75\n",
      "Roc Auc Score Train Data: 0.69\n",
      "Precision Train Data: 0.25\n",
      "F1 Train Data: 0.35\n",
      "Recall Train Data: 0.6\n"
     ]
    },
    {
     "data": {
      "image/png": "[encoded data removed]",
      "text/plain": [
       "<Figure size 576x576 with 2 Axes>"
      ]
     },
     "metadata": {
      "needs_background": "light"
     },
     "output_type": "display_data"
    },
    {
     "data": {
      "image/png": "[encoded data removed]",
      "text/plain": [
       "<Figure size 432x288 with 1 Axes>"
      ]
     },
     "metadata": {
      "needs_background": "light"
     },
     "output_type": "display_data"
    },
    {
     "name": "stdout",
     "output_type": "stream",
     "text": [
      "Accuracy Test Data: 0.82\n",
      "Roc Auc Score Test Data: 0.58\n",
      "Precision Test Data: 0.26\n",
      "F1 Test Data: 0.26\n",
      "Recall Test Data: 0.26\n"
     ]
    },
    {
     "data": {
      "image/png": "[encoded data removed]",
      "text/plain": [
       "<Figure size 576x576 with 2 Axes>"
      ]
     },
     "metadata": {
      "needs_background": "light"
     },
     "output_type": "display_data"
    },
    {
     "data": {
      "image/png": "[encoded data removed]",
      "text/plain": [
       "<Figure size 432x288 with 1 Axes>"
      ]
     },
     "metadata": {
      "needs_background": "light"
     },
     "output_type": "display_data"
    }
   ],
   "source": [
    "GNB = GaussianNB()\n",
    "GNB.fit(X_train, y_train)\n",
    "y_pred_test = GNB.predict(X_test)\n",
    "y_pred_train = GNB.predict(X_train) \n",
    "\n",
    "names.append('Naiwny klasyfikator bayesowski')\n",
    "\n",
    "\n",
    "print(\"Accuracy Train Data: \"+str(round(accuracy_score(y_train, y_pred_train),2)))\n",
    "accuracy_train.append(str(round(accuracy_score(y_train, y_pred_train),2)))\n",
    "print(\"Roc Auc Score Train Data: \"+str(round(roc_auc_score(y_train, y_pred_train),2)))\n",
    "roc_train.append(str(round(roc_auc_score(y_train, y_pred_train),2)))\n",
    "print(\"Precision Train Data: \"+str(round(precision_score(y_train, y_pred_train),2)))\n",
    "precision_train.append(str(round(precision_score(y_train, y_pred_train),2)))\n",
    "print(\"F1 Train Data: \"+str(round(f1_score(y_train, y_pred_train),2)))\n",
    "f1_train.append(str(round(f1_score(y_train, y_pred_train),2)))\n",
    "print(\"Recall Train Data: \"+str(round(recall_score(y_train, y_pred_train),2)))\n",
    "recall_train.append(str(round(recall_score(y_train, y_pred_train),2)))\n",
    "\n",
    "confusion_matrix = metrics.confusion_matrix(y_train, y_pred_train)\n",
    "plt.figure(figsize=(8,8))\n",
    "sns.heatmap(confusion_matrix, annot=True, fmt=\".1f\", linewidths=.5, square = True, cmap='Reds');\n",
    "plt.ylabel('Actual');\n",
    "plt.xlabel('Predicted');\n",
    "title = 'Accuracy Score Train: {0}'.format(accuracy_score(y_train, y_pred_train))\n",
    "plt.title(title, size = 15);\n",
    "\n",
    "metrics.plot_roc_curve(GNB, X_train, y_train)\n",
    "plt.title(\"Krzywa ROC Train Data\")\n",
    "plt.show() \n",
    "\n",
    "\n",
    "print(\"Accuracy Test Data: \"+str(round(accuracy_score(y_test, y_pred_test),2)))\n",
    "accuracy_test.append(str(round(accuracy_score(y_test, y_pred_test),2)))\n",
    "print(\"Roc Auc Score Test Data: \"+str(round(roc_auc_score(y_test, y_pred_test),2)))\n",
    "roc_test.append(str(round(roc_auc_score(y_test, y_pred_test),2)))\n",
    "print(\"Precision Test Data: \"+str(round(precision_score(y_test, y_pred_test),2)))\n",
    "precision_test.append(str(round(precision_score(y_test, y_pred_test),2)))\n",
    "print(\"F1 Test Data: \"+str(round(f1_score(y_test, y_pred_test),2)))\n",
    "f1_test.append(str(round(f1_score(y_test, y_pred_test),2)))\n",
    "print(\"Recall Test Data: \"+str(round(recall_score(y_test, y_pred_test),2)))\n",
    "recall_test.append(str(round(recall_score(y_test, y_pred_test),2)))\n",
    "\n",
    "confusion_matrix = metrics.confusion_matrix(y_test, y_pred_test)\n",
    "plt.figure(figsize=(8,8))\n",
    "sns.heatmap(confusion_matrix, annot=True, fmt=\".1f\", linewidths=.5, square = True, cmap='Reds');\n",
    "plt.ylabel('Actual');\n",
    "plt.xlabel('Predicted');\n",
    "title = 'Accuracy Score Test: {0}'.format(accuracy_score(y_test, y_pred_test))\n",
    "plt.title(title, size = 15);\n",
    "\n",
    "metrics.plot_roc_curve(GNB, X_test, y_test)\n",
    "plt.title(\"Krzywa ROC Test Data\")\n",
    "plt.show() \n"
   ]
  },
  {
   "cell_type": "markdown",
   "metadata": {},
   "source": [
    "# Sieć neuronowa"
   ]
  },
  {
   "cell_type": "code",
   "execution_count": 44,
   "metadata": {},
   "outputs": [
    {
     "name": "stdout",
     "output_type": "stream",
     "text": [
      "Epoch 1/30\n",
      "272/272 [==============================] - 15s 902us/step - loss: 0.4657 - accuracy: 0.8544\n",
      "Epoch 2/30\n",
      "272/272 [==============================] - 0s 978us/step - loss: 0.3391 - accuracy: 0.8896\n",
      "Epoch 3/30\n",
      "272/272 [==============================] - 0s 886us/step - loss: 0.3264 - accuracy: 0.8919\n",
      "Epoch 4/30\n",
      "272/272 [==============================] - 0s 712us/step - loss: 0.3169 - accuracy: 0.8914\n",
      "Epoch 5/30\n",
      "272/272 [==============================] - 0s 845us/step - loss: 0.3017 - accuracy: 0.8936\n",
      "Epoch 6/30\n",
      "272/272 [==============================] - 0s 818us/step - loss: 0.3054 - accuracy: 0.8946\n",
      "Epoch 7/30\n",
      "272/272 [==============================] - 0s 755us/step - loss: 0.3314 - accuracy: 0.8849\n",
      "Epoch 8/30\n",
      "272/272 [==============================] - 0s 611us/step - loss: 0.2965 - accuracy: 0.8970\n",
      "Epoch 9/30\n",
      "272/272 [==============================] - 0s 757us/step - loss: 0.2741 - accuracy: 0.9057\n",
      "Epoch 10/30\n",
      "272/272 [==============================] - 0s 847us/step - loss: 0.2781 - accuracy: 0.9071\n",
      "Epoch 11/30\n",
      "272/272 [==============================] - 0s 643us/step - loss: 0.2802 - accuracy: 0.9087\n",
      "Epoch 12/30\n",
      "272/272 [==============================] - 0s 630us/step - loss: 0.2989 - accuracy: 0.8954\n",
      "Epoch 13/30\n",
      "272/272 [==============================] - 0s 669us/step - loss: 0.2870 - accuracy: 0.8990\n",
      "Epoch 14/30\n",
      "272/272 [==============================] - 0s 614us/step - loss: 0.2857 - accuracy: 0.8994\n",
      "Epoch 15/30\n",
      "272/272 [==============================] - 0s 626us/step - loss: 0.2926 - accuracy: 0.9016\n",
      "Epoch 16/30\n",
      "272/272 [==============================] - 0s 651us/step - loss: 0.2772 - accuracy: 0.9109\n",
      "Epoch 17/30\n",
      "272/272 [==============================] - 0s 702us/step - loss: 0.2860 - accuracy: 0.8941\n",
      "Epoch 18/30\n",
      "272/272 [==============================] - 0s 625us/step - loss: 0.2817 - accuracy: 0.9008\n",
      "Epoch 19/30\n",
      "272/272 [==============================] - 0s 634us/step - loss: 0.2743 - accuracy: 0.9013\n",
      "Epoch 20/30\n",
      "272/272 [==============================] - 0s 679us/step - loss: 0.2746 - accuracy: 0.9083\n",
      "Epoch 21/30\n",
      "272/272 [==============================] - 0s 668us/step - loss: 0.2799 - accuracy: 0.9021\n",
      "Epoch 22/30\n",
      "272/272 [==============================] - 0s 670us/step - loss: 0.2625 - accuracy: 0.9121\n",
      "Epoch 23/30\n",
      "272/272 [==============================] - 0s 632us/step - loss: 0.2726 - accuracy: 0.9037\n",
      "Epoch 24/30\n",
      "272/272 [==============================] - 0s 648us/step - loss: 0.2690 - accuracy: 0.9065\n",
      "Epoch 25/30\n",
      "272/272 [==============================] - 0s 716us/step - loss: 0.2767 - accuracy: 0.9015\n",
      "Epoch 26/30\n",
      "272/272 [==============================] - 0s 772us/step - loss: 0.2802 - accuracy: 0.9046\n",
      "Epoch 27/30\n",
      "272/272 [==============================] - 0s 799us/step - loss: 0.2709 - accuracy: 0.9088\n",
      "Epoch 28/30\n",
      "272/272 [==============================] - 0s 662us/step - loss: 0.2906 - accuracy: 0.8986\n",
      "Epoch 29/30\n",
      "272/272 [==============================] - 0s 739us/step - loss: 0.2781 - accuracy: 0.9022\n",
      "Epoch 30/30\n",
      "272/272 [==============================] - 0s 632us/step - loss: 0.2717 - accuracy: 0.9075\n"
     ]
    },
    {
     "data": {
      "text/plain": [
       "<keras.callbacks.History at 0x7fea2fd718b0>"
      ]
     },
     "execution_count": 44,
     "metadata": {},
     "output_type": "execute_result"
    }
   ],
   "source": [
    "ANN = Sequential()\n",
    "ANN.add(Dense(units = 64, kernel_regularizer=tf.keras.regularizers.l2(0.001) , activation = 'relu'))\n",
    "ANN.add(Dense(units = 1, kernel_regularizer=tf.keras.regularizers.l2(0.001), activation = 'sigmoid'))\n",
    "ANN.compile(loss = 'binary_crossentropy', optimizer = 'adam',  metrics = ['accuracy'])\n",
    "ANN.fit(X_train, y_train, batch_size = 10, epochs = 30)"
   ]
  },
  {
   "cell_type": "code",
   "execution_count": 45,
   "metadata": {},
   "outputs": [
    {
     "name": "stdout",
     "output_type": "stream",
     "text": [
      "Accuracy Train Data: 0.91\n",
      "Roc Auc Score Train Data: 0.64\n",
      "Precision Train Data: 0.69\n",
      "F1 Train Data: 0.42\n",
      "Recall Train Data: 0.3\n"
     ]
    },
    {
     "data": {
      "image/png": "[encoded data removed]",
      "text/plain": [
       "<Figure size 576x576 with 2 Axes>"
      ]
     },
     "metadata": {
      "needs_background": "light"
     },
     "output_type": "display_data"
    },
    {
     "name": "stdout",
     "output_type": "stream",
     "text": [
      "Accuracy Test Data: 0.89\n",
      "Roc Auc Score Test Data: 0.58\n",
      "Precision Test Data: 0.64\n",
      "F1 Test Data: 0.26\n",
      "Recall Test Data: 0.16\n"
     ]
    },
    {
     "data": {
      "image/png": "[encoded data removed]",
      "text/plain": [
       "<Figure size 576x576 with 2 Axes>"
      ]
     },
     "metadata": {
      "needs_background": "light"
     },
     "output_type": "display_data"
    }
   ],
   "source": [
    "y_pred_test = ANN.predict(X_test)\n",
    "y_pred_test = (y_pred_test > 0.5)\n",
    "\n",
    "y_pred_train = ANN.predict(X_train)\n",
    "y_pred_train = (y_pred_train > 0.5)\n",
    "\n",
    "names.append('Sieć neuronowa')\n",
    "\n",
    "\n",
    "print(\"Accuracy Train Data: \"+str(round(accuracy_score(y_train, y_pred_train),2)))\n",
    "accuracy_train.append(str(round(accuracy_score(y_train, y_pred_train),2)))\n",
    "print(\"Roc Auc Score Train Data: \"+str(round(roc_auc_score(y_train, y_pred_train),2)))\n",
    "roc_train.append(str(round(roc_auc_score(y_train, y_pred_train),2)))\n",
    "print(\"Precision Train Data: \"+str(round(precision_score(y_train, y_pred_train),2)))\n",
    "precision_train.append(str(round(precision_score(y_train, y_pred_train),2)))\n",
    "print(\"F1 Train Data: \"+str(round(f1_score(y_train, y_pred_train),2)))\n",
    "f1_train.append(str(round(f1_score(y_train, y_pred_train),2)))\n",
    "print(\"Recall Train Data: \"+str(round(recall_score(y_train, y_pred_train),2)))\n",
    "recall_train.append(str(round(recall_score(y_train, y_pred_train),2)))\n",
    "\n",
    "confusion_matrix = metrics.confusion_matrix(y_train, y_pred_train)\n",
    "plt.figure(figsize=(8,8))\n",
    "sns.heatmap(confusion_matrix, annot=True, fmt=\".1f\", linewidths=.5, square = True, cmap='Reds');\n",
    "plt.ylabel('Actual');\n",
    "plt.xlabel('Predicted');\n",
    "title = 'Accuracy Score Train: {0}'.format(accuracy_score(y_train, y_pred_train))\n",
    "plt.title(title, size = 15);\n",
    "\n",
    "# metrics.plot_roc_curve(ANN, X_train, y_train)\n",
    "# plt.title(\"Krzywa ROC Train Data\")\n",
    "plt.show() \n",
    "\n",
    "\n",
    "print(\"Accuracy Test Data: \"+str(round(accuracy_score(y_test, y_pred_test),2)))\n",
    "accuracy_test.append(str(round(accuracy_score(y_test, y_pred_test),2)))\n",
    "print(\"Roc Auc Score Test Data: \"+str(round(roc_auc_score(y_test, y_pred_test),2)))\n",
    "roc_test.append(str(round(roc_auc_score(y_test, y_pred_test),2)))\n",
    "print(\"Precision Test Data: \"+str(round(precision_score(y_test, y_pred_test),2)))\n",
    "precision_test.append(str(round(precision_score(y_test, y_pred_test),2)))\n",
    "print(\"F1 Test Data: \"+str(round(f1_score(y_test, y_pred_test),2)))\n",
    "f1_test.append(str(round(f1_score(y_test, y_pred_test),2)))\n",
    "print(\"Recall Test Data: \"+str(round(recall_score(y_test, y_pred_test),2)))\n",
    "recall_test.append(str(round(recall_score(y_test, y_pred_test),2)))\n",
    "\n",
    "confusion_matrix = metrics.confusion_matrix(y_test, y_pred_test)\n",
    "plt.figure(figsize=(8,8))\n",
    "sns.heatmap(confusion_matrix, annot=True, fmt=\".1f\", linewidths=.5, square = True, cmap='Reds');\n",
    "plt.ylabel('Actual');\n",
    "plt.xlabel('Predicted');\n",
    "title = 'Accuracy Score Test: {0}'.format(accuracy_score(y_test, y_pred_test))\n",
    "plt.title(title, size = 15);\n",
    "\n",
    "# metrics.plot_roc_curve(ANN, X_test, y_test)\n",
    "# plt.title(\"Krzywa ROC Test Data\")\n",
    "# plt.show() "
   ]
  },
  {
   "cell_type": "markdown",
   "metadata": {},
   "source": [
    "# Tabele porówania modeli"
   ]
  },
  {
   "cell_type": "markdown",
   "metadata": {},
   "source": [
    "Zbiór treningowy"
   ]
  },
  {
   "cell_type": "code",
   "execution_count": 46,
   "metadata": {},
   "outputs": [],
   "source": [
    "model_comparison_train = pd.DataFrame([accuracy_train,\n",
    "roc_train,\n",
    "precision_train,\n",
    "f1_train,\n",
    "recall_train], columns = names)\n",
    "model_comparison_train = model_comparison_train.set_index('Miary')"
   ]
  },
  {
   "cell_type": "code",
   "execution_count": 47,
   "metadata": {},
   "outputs": [
    {
     "data": {
      "text/html": [
       "<div>\n",
       "<style scoped>\n",
       "    .dataframe tbody tr th:only-of-type {\n",
       "        vertical-align: middle;\n",
       "    }\n",
       "\n",
       "    .dataframe tbody tr th {\n",
       "        vertical-align: top;\n",
       "    }\n",
       "\n",
       "    .dataframe thead th {\n",
       "        text-align: right;\n",
       "    }\n",
       "</style>\n",
       "<table border=\"1\" class=\"dataframe\">\n",
       "  <thead>\n",
       "    <tr style=\"text-align: right;\">\n",
       "      <th></th>\n",
       "      <th>Regresja logistyczna</th>\n",
       "      <th>SVM</th>\n",
       "      <th>Drzewo decyzyjne</th>\n",
       "      <th>K najbliższych sąsiadów</th>\n",
       "      <th>Lasy losowe</th>\n",
       "      <th>Naiwny klasyfikator bayesowski</th>\n",
       "      <th>Sieć neuronowa</th>\n",
       "    </tr>\n",
       "    <tr>\n",
       "      <th>Miary</th>\n",
       "      <th></th>\n",
       "      <th></th>\n",
       "      <th></th>\n",
       "      <th></th>\n",
       "      <th></th>\n",
       "      <th></th>\n",
       "      <th></th>\n",
       "    </tr>\n",
       "  </thead>\n",
       "  <tbody>\n",
       "    <tr>\n",
       "      <th>Accuracy</th>\n",
       "      <td>0.9</td>\n",
       "      <td>0.89</td>\n",
       "      <td>1.0</td>\n",
       "      <td>0.91</td>\n",
       "      <td>1.0</td>\n",
       "      <td>0.75</td>\n",
       "      <td>0.91</td>\n",
       "    </tr>\n",
       "    <tr>\n",
       "      <th>Roc</th>\n",
       "      <td>0.61</td>\n",
       "      <td>0.58</td>\n",
       "      <td>1.0</td>\n",
       "      <td>0.62</td>\n",
       "      <td>1.0</td>\n",
       "      <td>0.69</td>\n",
       "      <td>0.64</td>\n",
       "    </tr>\n",
       "    <tr>\n",
       "      <th>Precision</th>\n",
       "      <td>0.69</td>\n",
       "      <td>0.62</td>\n",
       "      <td>1.0</td>\n",
       "      <td>0.75</td>\n",
       "      <td>1.0</td>\n",
       "      <td>0.25</td>\n",
       "      <td>0.69</td>\n",
       "    </tr>\n",
       "    <tr>\n",
       "      <th>F1</th>\n",
       "      <td>0.34</td>\n",
       "      <td>0.27</td>\n",
       "      <td>1.0</td>\n",
       "      <td>0.37</td>\n",
       "      <td>1.0</td>\n",
       "      <td>0.35</td>\n",
       "      <td>0.42</td>\n",
       "    </tr>\n",
       "    <tr>\n",
       "      <th>Recall</th>\n",
       "      <td>0.23</td>\n",
       "      <td>0.17</td>\n",
       "      <td>1.0</td>\n",
       "      <td>0.25</td>\n",
       "      <td>1.0</td>\n",
       "      <td>0.6</td>\n",
       "      <td>0.3</td>\n",
       "    </tr>\n",
       "  </tbody>\n",
       "</table>\n",
       "</div>"
      ],
      "text/plain": [
       "          Regresja logistyczna   SVM Drzewo decyzyjne K najbliższych sąsiadów  \\\n",
       "Miary                                                                           \n",
       "Accuracy                   0.9  0.89              1.0                    0.91   \n",
       "Roc                       0.61  0.58              1.0                    0.62   \n",
       "Precision                 0.69  0.62              1.0                    0.75   \n",
       "F1                        0.34  0.27              1.0                    0.37   \n",
       "Recall                    0.23  0.17              1.0                    0.25   \n",
       "\n",
       "          Lasy losowe Naiwny klasyfikator bayesowski Sieć neuronowa  \n",
       "Miary                                                                \n",
       "Accuracy          1.0                           0.75           0.91  \n",
       "Roc               1.0                           0.69           0.64  \n",
       "Precision         1.0                           0.25           0.69  \n",
       "F1                1.0                           0.35           0.42  \n",
       "Recall            1.0                            0.6            0.3  "
      ]
     },
     "execution_count": 47,
     "metadata": {},
     "output_type": "execute_result"
    }
   ],
   "source": [
    "model_comparison_train"
   ]
  },
  {
   "cell_type": "markdown",
   "metadata": {},
   "source": [
    "Zbiór testowy"
   ]
  },
  {
   "cell_type": "code",
   "execution_count": 48,
   "metadata": {},
   "outputs": [],
   "source": [
    "model_comparison_test = pd.DataFrame([accuracy_test,\n",
    "roc_test,\n",
    "precision_test,\n",
    "f1_test,\n",
    "recall_test], columns = names)\n",
    "model_comparison_test = model_comparison_test.set_index('Miary')"
   ]
  },
  {
   "cell_type": "code",
   "execution_count": 49,
   "metadata": {},
   "outputs": [
    {
     "data": {
      "text/html": [
       "<div>\n",
       "<style scoped>\n",
       "    .dataframe tbody tr th:only-of-type {\n",
       "        vertical-align: middle;\n",
       "    }\n",
       "\n",
       "    .dataframe tbody tr th {\n",
       "        vertical-align: top;\n",
       "    }\n",
       "\n",
       "    .dataframe thead th {\n",
       "        text-align: right;\n",
       "    }\n",
       "</style>\n",
       "<table border=\"1\" class=\"dataframe\">\n",
       "  <thead>\n",
       "    <tr style=\"text-align: right;\">\n",
       "      <th></th>\n",
       "      <th>Regresja logistyczna</th>\n",
       "      <th>SVM</th>\n",
       "      <th>Drzewo decyzyjne</th>\n",
       "      <th>K najbliższych sąsiadów</th>\n",
       "      <th>Lasy losowe</th>\n",
       "      <th>Naiwny klasyfikator bayesowski</th>\n",
       "      <th>Sieć neuronowa</th>\n",
       "    </tr>\n",
       "    <tr>\n",
       "      <th>Miary</th>\n",
       "      <th></th>\n",
       "      <th></th>\n",
       "      <th></th>\n",
       "      <th></th>\n",
       "      <th></th>\n",
       "      <th></th>\n",
       "      <th></th>\n",
       "    </tr>\n",
       "  </thead>\n",
       "  <tbody>\n",
       "    <tr>\n",
       "      <th>Accuracy</th>\n",
       "      <td>0.89</td>\n",
       "      <td>0.89</td>\n",
       "      <td>0.82</td>\n",
       "      <td>0.88</td>\n",
       "      <td>0.88</td>\n",
       "      <td>0.82</td>\n",
       "      <td>0.89</td>\n",
       "    </tr>\n",
       "    <tr>\n",
       "      <th>Roc</th>\n",
       "      <td>0.56</td>\n",
       "      <td>0.57</td>\n",
       "      <td>0.61</td>\n",
       "      <td>0.54</td>\n",
       "      <td>0.52</td>\n",
       "      <td>0.58</td>\n",
       "      <td>0.58</td>\n",
       "    </tr>\n",
       "    <tr>\n",
       "      <th>Precision</th>\n",
       "      <td>0.64</td>\n",
       "      <td>0.7</td>\n",
       "      <td>0.28</td>\n",
       "      <td>0.41</td>\n",
       "      <td>0.59</td>\n",
       "      <td>0.26</td>\n",
       "      <td>0.64</td>\n",
       "    </tr>\n",
       "    <tr>\n",
       "      <th>F1</th>\n",
       "      <td>0.21</td>\n",
       "      <td>0.23</td>\n",
       "      <td>0.31</td>\n",
       "      <td>0.16</td>\n",
       "      <td>0.09</td>\n",
       "      <td>0.26</td>\n",
       "      <td>0.26</td>\n",
       "    </tr>\n",
       "    <tr>\n",
       "      <th>Recall</th>\n",
       "      <td>0.13</td>\n",
       "      <td>0.14</td>\n",
       "      <td>0.34</td>\n",
       "      <td>0.1</td>\n",
       "      <td>0.05</td>\n",
       "      <td>0.26</td>\n",
       "      <td>0.16</td>\n",
       "    </tr>\n",
       "  </tbody>\n",
       "</table>\n",
       "</div>"
      ],
      "text/plain": [
       "          Regresja logistyczna   SVM Drzewo decyzyjne K najbliższych sąsiadów  \\\n",
       "Miary                                                                           \n",
       "Accuracy                  0.89  0.89             0.82                    0.88   \n",
       "Roc                       0.56  0.57             0.61                    0.54   \n",
       "Precision                 0.64   0.7             0.28                    0.41   \n",
       "F1                        0.21  0.23             0.31                    0.16   \n",
       "Recall                    0.13  0.14             0.34                     0.1   \n",
       "\n",
       "          Lasy losowe Naiwny klasyfikator bayesowski Sieć neuronowa  \n",
       "Miary                                                                \n",
       "Accuracy         0.88                           0.82           0.89  \n",
       "Roc              0.52                           0.58           0.58  \n",
       "Precision        0.59                           0.26           0.64  \n",
       "F1               0.09                           0.26           0.26  \n",
       "Recall           0.05                           0.26           0.16  "
      ]
     },
     "execution_count": 49,
     "metadata": {},
     "output_type": "execute_result"
    }
   ],
   "source": [
    "model_comparison_test"
   ]
  },
  {
   "cell_type": "code",
   "execution_count": null,
   "metadata": {},
   "outputs": [],
   "source": []
  },
  {
   "cell_type": "code",
   "execution_count": null,
   "metadata": {},
   "outputs": [],
   "source": []
  },
  {
   "cell_type": "code",
   "execution_count": null,
   "metadata": {},
   "outputs": [],
   "source": []
  },
  {
   "cell_type": "code",
   "execution_count": null,
   "metadata": {},
   "outputs": [],
   "source": []
  },
  {
   "cell_type": "code",
   "execution_count": null,
   "metadata": {},
   "outputs": [],
   "source": []
  }
 ],
 "metadata": {
  "kernelspec": {
   "display_name": "Python 3 (ipykernel)",
   "language": "python",
   "name": "python3"
  },
  "language_info": {
   "codemirror_mode": {
    "name": "ipython",
    "version": 3
   },
   "file_extension": ".py",
   "mimetype": "text/x-python",
   "name": "python",
   "nbconvert_exporter": "python",
   "pygments_lexer": "ipython3",
   "version": "3.9.4"
  }
 },
 "nbformat": 4,
 "nbformat_minor": 4
}
